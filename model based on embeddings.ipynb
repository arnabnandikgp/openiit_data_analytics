{
  "cells": [
    {
      "cell_type": "code",
      "execution_count": 1,
      "id": "ae936f35-c326-4847-a8b2-00509ea4bb5e",
      "metadata": {
        "gather": {
          "logged": 1668008220621
        }
      },
      "outputs": [],
      "source": [
        "import numpy as np\n",
        "import pandas as pd\n",
        "import seaborn as sns\n",
        "import nltk"
      ]
    },
    {
      "cell_type": "code",
      "execution_count": 2,
      "id": "4c79f481-2a86-4331-9deb-c15bddc24166",
      "metadata": {
        "gather": {
          "logged": 1668008274433
        },
        "jupyter": {
          "outputs_hidden": false,
          "source_hidden": false
        },
        "nteract": {
          "transient": {
            "deleting": false
          }
        }
      },
      "outputs": [
        {
          "name": "stdout",
          "output_type": "stream",
          "text": [
            "Found existing installation: Keras 2.4.0\n",
            "Uninstalling Keras-2.4.0:\n",
            "  Successfully uninstalled Keras-2.4.0\n",
            "\u001b[33mWARNING: Skipping keras-nightly as it is not installed.\u001b[0m\n",
            "Found existing installation: Keras-Preprocessing 1.1.2\n",
            "Uninstalling Keras-Preprocessing-1.1.2:\n",
            "  Successfully uninstalled Keras-Preprocessing-1.1.2\n",
            "\u001b[33mWARNING: Skipping keras-vis as it is not installed.\u001b[0m\n",
            "Found existing installation: tensorflow 2.3.0\n",
            "Uninstalling tensorflow-2.3.0:\n",
            "  Successfully uninstalled tensorflow-2.3.0\n",
            "Collecting tensorflow==2.3.0\n",
            "  Using cached tensorflow-2.3.0-cp38-cp38-manylinux2010_x86_64.whl (320.5 MB)\n",
            "Requirement already satisfied: protobuf>=3.9.2 in /anaconda/envs/azureml_py38/lib/python3.8/site-packages (from tensorflow==2.3.0) (3.20.1)\n",
            "Requirement already satisfied: absl-py>=0.7.0 in /anaconda/envs/azureml_py38/lib/python3.8/site-packages (from tensorflow==2.3.0) (0.15.0)\n",
            "Requirement already satisfied: numpy<1.19.0,>=1.16.0 in /anaconda/envs/azureml_py38/lib/python3.8/site-packages (from tensorflow==2.3.0) (1.18.5)\n",
            "Requirement already satisfied: scipy==1.4.1 in /anaconda/envs/azureml_py38/lib/python3.8/site-packages (from tensorflow==2.3.0) (1.4.1)\n",
            "Requirement already satisfied: grpcio>=1.8.6 in /anaconda/envs/azureml_py38/lib/python3.8/site-packages (from tensorflow==2.3.0) (1.47.0)\n",
            "Requirement already satisfied: astunparse==1.6.3 in /anaconda/envs/azureml_py38/lib/python3.8/site-packages (from tensorflow==2.3.0) (1.6.3)\n",
            "Requirement already satisfied: h5py<2.11.0,>=2.10.0 in /anaconda/envs/azureml_py38/lib/python3.8/site-packages (from tensorflow==2.3.0) (2.10.0)\n",
            "Requirement already satisfied: wrapt>=1.11.1 in /anaconda/envs/azureml_py38/lib/python3.8/site-packages (from tensorflow==2.3.0) (1.12.1)\n",
            "Requirement already satisfied: google-pasta>=0.1.8 in /anaconda/envs/azureml_py38/lib/python3.8/site-packages (from tensorflow==2.3.0) (0.2.0)\n",
            "Requirement already satisfied: gast==0.3.3 in /anaconda/envs/azureml_py38/lib/python3.8/site-packages (from tensorflow==2.3.0) (0.3.3)\n",
            "Requirement already satisfied: termcolor>=1.1.0 in /anaconda/envs/azureml_py38/lib/python3.8/site-packages (from tensorflow==2.3.0) (1.1.0)\n",
            "Requirement already satisfied: six>=1.12.0 in /anaconda/envs/azureml_py38/lib/python3.8/site-packages (from tensorflow==2.3.0) (1.16.0)\n",
            "Requirement already satisfied: tensorflow-estimator<2.4.0,>=2.3.0 in /anaconda/envs/azureml_py38/lib/python3.8/site-packages (from tensorflow==2.3.0) (2.3.0)\n",
            "Collecting keras-preprocessing<1.2,>=1.1.1\n",
            "  Using cached Keras_Preprocessing-1.1.2-py2.py3-none-any.whl (42 kB)\n",
            "Requirement already satisfied: opt-einsum>=2.3.2 in /anaconda/envs/azureml_py38/lib/python3.8/site-packages (from tensorflow==2.3.0) (3.3.0)\n",
            "Requirement already satisfied: tensorboard<3,>=2.3.0 in /anaconda/envs/azureml_py38/lib/python3.8/site-packages (from tensorflow==2.3.0) (2.10.1)\n",
            "Requirement already satisfied: wheel>=0.26 in /anaconda/envs/azureml_py38/lib/python3.8/site-packages (from tensorflow==2.3.0) (0.37.1)\n",
            "Requirement already satisfied: markdown>=2.6.8 in /anaconda/envs/azureml_py38/lib/python3.8/site-packages (from tensorboard<3,>=2.3.0->tensorflow==2.3.0) (3.4.1)\n",
            "Requirement already satisfied: tensorboard-data-server<0.7.0,>=0.6.0 in /anaconda/envs/azureml_py38/lib/python3.8/site-packages (from tensorboard<3,>=2.3.0->tensorflow==2.3.0) (0.6.1)\n",
            "Requirement already satisfied: werkzeug>=1.0.1 in /anaconda/envs/azureml_py38/lib/python3.8/site-packages (from tensorboard<3,>=2.3.0->tensorflow==2.3.0) (1.0.1)\n",
            "Requirement already satisfied: google-auth<3,>=1.6.3 in /anaconda/envs/azureml_py38/lib/python3.8/site-packages (from tensorboard<3,>=2.3.0->tensorflow==2.3.0) (1.35.0)\n",
            "Requirement already satisfied: tensorboard-plugin-wit>=1.6.0 in /anaconda/envs/azureml_py38/lib/python3.8/site-packages (from tensorboard<3,>=2.3.0->tensorflow==2.3.0) (1.8.1)\n",
            "Requirement already satisfied: requests<3,>=2.21.0 in /anaconda/envs/azureml_py38/lib/python3.8/site-packages (from tensorboard<3,>=2.3.0->tensorflow==2.3.0) (2.28.1)\n",
            "Requirement already satisfied: google-auth-oauthlib<0.5,>=0.4.1 in /anaconda/envs/azureml_py38/lib/python3.8/site-packages (from tensorboard<3,>=2.3.0->tensorflow==2.3.0) (0.4.6)\n",
            "Requirement already satisfied: setuptools>=41.0.0 in /anaconda/envs/azureml_py38/lib/python3.8/site-packages (from tensorboard<3,>=2.3.0->tensorflow==2.3.0) (49.6.0)\n",
            "Requirement already satisfied: importlib-metadata>=4.4; python_version < \"3.10\" in /anaconda/envs/azureml_py38/lib/python3.8/site-packages (from markdown>=2.6.8->tensorboard<3,>=2.3.0->tensorflow==2.3.0) (4.12.0)\n",
            "Requirement already satisfied: cachetools<5.0,>=2.0.0 in /anaconda/envs/azureml_py38/lib/python3.8/site-packages (from google-auth<3,>=1.6.3->tensorboard<3,>=2.3.0->tensorflow==2.3.0) (4.2.4)\n",
            "Requirement already satisfied: rsa<5,>=3.1.4; python_version >= \"3.6\" in /anaconda/envs/azureml_py38/lib/python3.8/site-packages (from google-auth<3,>=1.6.3->tensorboard<3,>=2.3.0->tensorflow==2.3.0) (4.9)\n",
            "Requirement already satisfied: pyasn1-modules>=0.2.1 in /anaconda/envs/azureml_py38/lib/python3.8/site-packages (from google-auth<3,>=1.6.3->tensorboard<3,>=2.3.0->tensorflow==2.3.0) (0.2.8)\n",
            "Requirement already satisfied: certifi>=2017.4.17 in /anaconda/envs/azureml_py38/lib/python3.8/site-packages (from requests<3,>=2.21.0->tensorboard<3,>=2.3.0->tensorflow==2.3.0) (2022.6.15)\n",
            "Requirement already satisfied: charset-normalizer<3,>=2 in /anaconda/envs/azureml_py38/lib/python3.8/site-packages (from requests<3,>=2.21.0->tensorboard<3,>=2.3.0->tensorflow==2.3.0) (2.1.0)\n",
            "Requirement already satisfied: idna<4,>=2.5 in /anaconda/envs/azureml_py38/lib/python3.8/site-packages (from requests<3,>=2.21.0->tensorboard<3,>=2.3.0->tensorflow==2.3.0) (3.3)\n",
            "Requirement already satisfied: urllib3<1.27,>=1.21.1 in /anaconda/envs/azureml_py38/lib/python3.8/site-packages (from requests<3,>=2.21.0->tensorboard<3,>=2.3.0->tensorflow==2.3.0) (1.26.9)\n",
            "Requirement already satisfied: requests-oauthlib>=0.7.0 in /anaconda/envs/azureml_py38/lib/python3.8/site-packages (from google-auth-oauthlib<0.5,>=0.4.1->tensorboard<3,>=2.3.0->tensorflow==2.3.0) (1.3.1)\n",
            "Requirement already satisfied: zipp>=0.5 in /anaconda/envs/azureml_py38/lib/python3.8/site-packages (from importlib-metadata>=4.4; python_version < \"3.10\"->markdown>=2.6.8->tensorboard<3,>=2.3.0->tensorflow==2.3.0) (3.8.1)\n",
            "Requirement already satisfied: pyasn1>=0.1.3 in /anaconda/envs/azureml_py38/lib/python3.8/site-packages (from rsa<5,>=3.1.4; python_version >= \"3.6\"->google-auth<3,>=1.6.3->tensorboard<3,>=2.3.0->tensorflow==2.3.0) (0.4.8)\n",
            "Requirement already satisfied: oauthlib>=3.0.0 in /anaconda/envs/azureml_py38/lib/python3.8/site-packages (from requests-oauthlib>=0.7.0->google-auth-oauthlib<0.5,>=0.4.1->tensorboard<3,>=2.3.0->tensorflow==2.3.0) (3.2.0)\n",
            "\u001b[31mERROR: tensorflow-gpu 2.2.0 has requirement tensorboard<2.3.0,>=2.2.0, but you'll have tensorboard 2.10.1 which is incompatible.\u001b[0m\n",
            "\u001b[31mERROR: tensorflow-gpu 2.2.0 has requirement tensorflow-estimator<2.3.0,>=2.2.0, but you'll have tensorflow-estimator 2.3.0 which is incompatible.\u001b[0m\n",
            "\u001b[31mERROR: tensorflow-cpu 2.2.0 has requirement tensorboard<2.3.0,>=2.2.0, but you'll have tensorboard 2.10.1 which is incompatible.\u001b[0m\n",
            "\u001b[31mERROR: tensorflow-cpu 2.2.0 has requirement tensorflow-estimator<2.3.0,>=2.2.0, but you'll have tensorflow-estimator 2.3.0 which is incompatible.\u001b[0m\n",
            "Installing collected packages: keras-preprocessing, tensorflow\n",
            "Successfully installed keras-preprocessing-1.1.2 tensorflow-2.3.0\n",
            "Collecting keras==2.4\n",
            "  Using cached Keras-2.4.0-py2.py3-none-any.whl (170 kB)\n",
            "Requirement already satisfied: tensorflow>=2.2.0 in /anaconda/envs/azureml_py38/lib/python3.8/site-packages (from keras==2.4) (2.3.0)\n",
            "Requirement already satisfied: numpy>=1.9.1 in /anaconda/envs/azureml_py38/lib/python3.8/site-packages (from keras==2.4) (1.18.5)\n",
            "Requirement already satisfied: scipy>=0.14 in /anaconda/envs/azureml_py38/lib/python3.8/site-packages (from keras==2.4) (1.4.1)\n",
            "Requirement already satisfied: pyyaml in /anaconda/envs/azureml_py38/lib/python3.8/site-packages (from keras==2.4) (6.0)\n",
            "Requirement already satisfied: h5py in /anaconda/envs/azureml_py38/lib/python3.8/site-packages (from keras==2.4) (2.10.0)\n",
            "Requirement already satisfied: six>=1.12.0 in /anaconda/envs/azureml_py38/lib/python3.8/site-packages (from tensorflow>=2.2.0->keras==2.4) (1.16.0)\n",
            "Requirement already satisfied: absl-py>=0.7.0 in /anaconda/envs/azureml_py38/lib/python3.8/site-packages (from tensorflow>=2.2.0->keras==2.4) (0.15.0)\n",
            "Requirement already satisfied: gast==0.3.3 in /anaconda/envs/azureml_py38/lib/python3.8/site-packages (from tensorflow>=2.2.0->keras==2.4) (0.3.3)\n",
            "Requirement already satisfied: keras-preprocessing<1.2,>=1.1.1 in /anaconda/envs/azureml_py38/lib/python3.8/site-packages (from tensorflow>=2.2.0->keras==2.4) (1.1.2)\n",
            "Requirement already satisfied: astunparse==1.6.3 in /anaconda/envs/azureml_py38/lib/python3.8/site-packages (from tensorflow>=2.2.0->keras==2.4) (1.6.3)\n",
            "Requirement already satisfied: termcolor>=1.1.0 in /anaconda/envs/azureml_py38/lib/python3.8/site-packages (from tensorflow>=2.2.0->keras==2.4) (1.1.0)\n",
            "Requirement already satisfied: wrapt>=1.11.1 in /anaconda/envs/azureml_py38/lib/python3.8/site-packages (from tensorflow>=2.2.0->keras==2.4) (1.12.1)\n",
            "Requirement already satisfied: tensorboard<3,>=2.3.0 in /anaconda/envs/azureml_py38/lib/python3.8/site-packages (from tensorflow>=2.2.0->keras==2.4) (2.10.1)\n",
            "Requirement already satisfied: wheel>=0.26 in /anaconda/envs/azureml_py38/lib/python3.8/site-packages (from tensorflow>=2.2.0->keras==2.4) (0.37.1)\n",
            "Requirement already satisfied: grpcio>=1.8.6 in /anaconda/envs/azureml_py38/lib/python3.8/site-packages (from tensorflow>=2.2.0->keras==2.4) (1.47.0)\n",
            "Requirement already satisfied: google-pasta>=0.1.8 in /anaconda/envs/azureml_py38/lib/python3.8/site-packages (from tensorflow>=2.2.0->keras==2.4) (0.2.0)\n",
            "Requirement already satisfied: protobuf>=3.9.2 in /anaconda/envs/azureml_py38/lib/python3.8/site-packages (from tensorflow>=2.2.0->keras==2.4) (3.20.1)\n",
            "Requirement already satisfied: opt-einsum>=2.3.2 in /anaconda/envs/azureml_py38/lib/python3.8/site-packages (from tensorflow>=2.2.0->keras==2.4) (3.3.0)\n",
            "Requirement already satisfied: tensorflow-estimator<2.4.0,>=2.3.0 in /anaconda/envs/azureml_py38/lib/python3.8/site-packages (from tensorflow>=2.2.0->keras==2.4) (2.3.0)\n",
            "Requirement already satisfied: werkzeug>=1.0.1 in /anaconda/envs/azureml_py38/lib/python3.8/site-packages (from tensorboard<3,>=2.3.0->tensorflow>=2.2.0->keras==2.4) (1.0.1)\n",
            "Requirement already satisfied: markdown>=2.6.8 in /anaconda/envs/azureml_py38/lib/python3.8/site-packages (from tensorboard<3,>=2.3.0->tensorflow>=2.2.0->keras==2.4) (3.4.1)\n",
            "Requirement already satisfied: google-auth<3,>=1.6.3 in /anaconda/envs/azureml_py38/lib/python3.8/site-packages (from tensorboard<3,>=2.3.0->tensorflow>=2.2.0->keras==2.4) (1.35.0)\n",
            "Requirement already satisfied: requests<3,>=2.21.0 in /anaconda/envs/azureml_py38/lib/python3.8/site-packages (from tensorboard<3,>=2.3.0->tensorflow>=2.2.0->keras==2.4) (2.28.1)\n",
            "Requirement already satisfied: tensorboard-plugin-wit>=1.6.0 in /anaconda/envs/azureml_py38/lib/python3.8/site-packages (from tensorboard<3,>=2.3.0->tensorflow>=2.2.0->keras==2.4) (1.8.1)\n",
            "Requirement already satisfied: tensorboard-data-server<0.7.0,>=0.6.0 in /anaconda/envs/azureml_py38/lib/python3.8/site-packages (from tensorboard<3,>=2.3.0->tensorflow>=2.2.0->keras==2.4) (0.6.1)\n",
            "Requirement already satisfied: google-auth-oauthlib<0.5,>=0.4.1 in /anaconda/envs/azureml_py38/lib/python3.8/site-packages (from tensorboard<3,>=2.3.0->tensorflow>=2.2.0->keras==2.4) (0.4.6)\n",
            "Requirement already satisfied: setuptools>=41.0.0 in /anaconda/envs/azureml_py38/lib/python3.8/site-packages (from tensorboard<3,>=2.3.0->tensorflow>=2.2.0->keras==2.4) (49.6.0)\n",
            "Requirement already satisfied: importlib-metadata>=4.4; python_version < \"3.10\" in /anaconda/envs/azureml_py38/lib/python3.8/site-packages (from markdown>=2.6.8->tensorboard<3,>=2.3.0->tensorflow>=2.2.0->keras==2.4) (4.12.0)\n",
            "Requirement already satisfied: cachetools<5.0,>=2.0.0 in /anaconda/envs/azureml_py38/lib/python3.8/site-packages (from google-auth<3,>=1.6.3->tensorboard<3,>=2.3.0->tensorflow>=2.2.0->keras==2.4) (4.2.4)\n",
            "Requirement already satisfied: pyasn1-modules>=0.2.1 in /anaconda/envs/azureml_py38/lib/python3.8/site-packages (from google-auth<3,>=1.6.3->tensorboard<3,>=2.3.0->tensorflow>=2.2.0->keras==2.4) (0.2.8)\n",
            "Requirement already satisfied: rsa<5,>=3.1.4; python_version >= \"3.6\" in /anaconda/envs/azureml_py38/lib/python3.8/site-packages (from google-auth<3,>=1.6.3->tensorboard<3,>=2.3.0->tensorflow>=2.2.0->keras==2.4) (4.9)\n",
            "Requirement already satisfied: urllib3<1.27,>=1.21.1 in /anaconda/envs/azureml_py38/lib/python3.8/site-packages (from requests<3,>=2.21.0->tensorboard<3,>=2.3.0->tensorflow>=2.2.0->keras==2.4) (1.26.9)\n",
            "Requirement already satisfied: certifi>=2017.4.17 in /anaconda/envs/azureml_py38/lib/python3.8/site-packages (from requests<3,>=2.21.0->tensorboard<3,>=2.3.0->tensorflow>=2.2.0->keras==2.4) (2022.6.15)\n",
            "Requirement already satisfied: charset-normalizer<3,>=2 in /anaconda/envs/azureml_py38/lib/python3.8/site-packages (from requests<3,>=2.21.0->tensorboard<3,>=2.3.0->tensorflow>=2.2.0->keras==2.4) (2.1.0)\n",
            "Requirement already satisfied: idna<4,>=2.5 in /anaconda/envs/azureml_py38/lib/python3.8/site-packages (from requests<3,>=2.21.0->tensorboard<3,>=2.3.0->tensorflow>=2.2.0->keras==2.4) (3.3)\n",
            "Requirement already satisfied: requests-oauthlib>=0.7.0 in /anaconda/envs/azureml_py38/lib/python3.8/site-packages (from google-auth-oauthlib<0.5,>=0.4.1->tensorboard<3,>=2.3.0->tensorflow>=2.2.0->keras==2.4) (1.3.1)\n",
            "Requirement already satisfied: zipp>=0.5 in /anaconda/envs/azureml_py38/lib/python3.8/site-packages (from importlib-metadata>=4.4; python_version < \"3.10\"->markdown>=2.6.8->tensorboard<3,>=2.3.0->tensorflow>=2.2.0->keras==2.4) (3.8.1)\n",
            "Requirement already satisfied: pyasn1<0.5.0,>=0.4.6 in /anaconda/envs/azureml_py38/lib/python3.8/site-packages (from pyasn1-modules>=0.2.1->google-auth<3,>=1.6.3->tensorboard<3,>=2.3.0->tensorflow>=2.2.0->keras==2.4) (0.4.8)\n",
            "Requirement already satisfied: oauthlib>=3.0.0 in /anaconda/envs/azureml_py38/lib/python3.8/site-packages (from requests-oauthlib>=0.7.0->google-auth-oauthlib<0.5,>=0.4.1->tensorboard<3,>=2.3.0->tensorflow>=2.2.0->keras==2.4) (3.2.0)\n",
            "Installing collected packages: keras\n",
            "Successfully installed keras-2.4.0\n"
          ]
        }
      ],
      "source": [
        "!pip uninstall keras -y\n",
        "!pip uninstall keras-nightly -y\n",
        "!pip uninstall keras-Preprocessing -y\n",
        "!pip uninstall keras-vis -y\n",
        "!pip uninstall tensorflow -y\n",
        "\n",
        "!pip install tensorflow==2.3.0\n",
        "!pip install keras==2.4"
      ]
    },
    {
      "cell_type": "code",
      "execution_count": 3,
      "id": "726ee67c-578b-4e01-a457-3935e6a1df37",
      "metadata": {
        "gather": {
          "logged": 1668008280692
        },
        "jupyter": {
          "outputs_hidden": false,
          "source_hidden": false
        },
        "nteract": {
          "transient": {
            "deleting": false
          }
        }
      },
      "outputs": [
        {
          "name": "stderr",
          "output_type": "stream",
          "text": [
            "2022-11-09 15:37:54.539465: I tensorflow/stream_executor/platform/default/dso_loader.cc:48] Successfully opened dynamic library libcudart.so.10.1\n"
          ]
        }
      ],
      "source": [
        "from tensorflow import keras\n",
        "# !pip install tensorflow"
      ]
    },
    {
      "cell_type": "code",
      "execution_count": 59,
      "id": "9f763a26-7bd8-45cb-9d2c-3845d416b64e",
      "metadata": {
        "gather": {
          "logged": 1668009293842
        }
      },
      "outputs": [],
      "source": [
        "import re\n",
        "from nltk.corpus import stopwords\n",
        "from nltk.stem.porter import PorterStemmer\n",
        "from nltk.stem import WordNetLemmatizer\n",
        "from keras.models import Sequential\n",
        "from keras.layers import Dense\n",
        "from sklearn.feature_extraction.text import TfidfVectorizer\n",
        "from sklearn.model_selection import train_test_split\n",
        "from sklearn.model_selection import train_test_split"
      ]
    },
    {
      "cell_type": "code",
      "execution_count": 5,
      "id": "84a2dcdb-7070-492c-b134-e8d3bf98443a",
      "metadata": {
        "gather": {
          "logged": 1668008282055
        }
      },
      "outputs": [],
      "source": [
        "from nltk.corpus import stopwords\n",
        "from nltk.stem.porter import PorterStemmer\n",
        "from nltk.stem import WordNetLemmatizer\n",
        "from nltk.stem import WordNetLemmatizer\n",
        "from nltk.corpus import stopwords"
      ]
    },
    {
      "cell_type": "code",
      "execution_count": 6,
      "id": "c8a64c81-7804-41da-aeb9-e194fb85fb7d",
      "metadata": {
        "gather": {
          "logged": 1668008295116
        }
      },
      "outputs": [],
      "source": [
        "ps = PorterStemmer()\n",
        "wordnet=WordNetLemmatizer()\n",
        "lemmatizer = WordNetLemmatizer()"
      ]
    },
    {
      "cell_type": "code",
      "execution_count": 7,
      "id": "f42af768-d1ff-43be-98a4-d89b0317918b",
      "metadata": {
        "gather": {
          "logged": 1668008311598
        }
      },
      "outputs": [
        {
          "data": {
            "text/html": [
              "<div>\n",
              "<style scoped>\n",
              "    .dataframe tbody tr th:only-of-type {\n",
              "        vertical-align: middle;\n",
              "    }\n",
              "\n",
              "    .dataframe tbody tr th {\n",
              "        vertical-align: top;\n",
              "    }\n",
              "\n",
              "    .dataframe thead th {\n",
              "        text-align: right;\n",
              "    }\n",
              "</style>\n",
              "<table border=\"1\" class=\"dataframe\">\n",
              "  <thead>\n",
              "    <tr style=\"text-align: right;\">\n",
              "      <th></th>\n",
              "      <th>text1</th>\n",
              "      <th>text2</th>\n",
              "      <th>label</th>\n",
              "    </tr>\n",
              "  </thead>\n",
              "  <tbody>\n",
              "    <tr>\n",
              "      <th>0</th>\n",
              "      <td>98</td>\n",
              "      <td>651</td>\n",
              "      <td>0</td>\n",
              "    </tr>\n",
              "    <tr>\n",
              "      <th>1</th>\n",
              "      <td>696</td>\n",
              "      <td>1870</td>\n",
              "      <td>1</td>\n",
              "    </tr>\n",
              "    <tr>\n",
              "      <th>2</th>\n",
              "      <td>1073</td>\n",
              "      <td>1620</td>\n",
              "      <td>0</td>\n",
              "    </tr>\n",
              "    <tr>\n",
              "      <th>3</th>\n",
              "      <td>167</td>\n",
              "      <td>633</td>\n",
              "      <td>0</td>\n",
              "    </tr>\n",
              "    <tr>\n",
              "      <th>4</th>\n",
              "      <td>4</td>\n",
              "      <td>640</td>\n",
              "      <td>0</td>\n",
              "    </tr>\n",
              "    <tr>\n",
              "      <th>...</th>\n",
              "      <td>...</td>\n",
              "      <td>...</td>\n",
              "      <td>...</td>\n",
              "    </tr>\n",
              "    <tr>\n",
              "      <th>155946</th>\n",
              "      <td>546</td>\n",
              "      <td>1512</td>\n",
              "      <td>1</td>\n",
              "    </tr>\n",
              "    <tr>\n",
              "      <th>155947</th>\n",
              "      <td>720</td>\n",
              "      <td>1902</td>\n",
              "      <td>1</td>\n",
              "    </tr>\n",
              "    <tr>\n",
              "      <th>155948</th>\n",
              "      <td>1112</td>\n",
              "      <td>1591</td>\n",
              "      <td>0</td>\n",
              "    </tr>\n",
              "    <tr>\n",
              "      <th>155949</th>\n",
              "      <td>396</td>\n",
              "      <td>1472</td>\n",
              "      <td>1</td>\n",
              "    </tr>\n",
              "    <tr>\n",
              "      <th>155950</th>\n",
              "      <td>1021</td>\n",
              "      <td>1680</td>\n",
              "      <td>0</td>\n",
              "    </tr>\n",
              "  </tbody>\n",
              "</table>\n",
              "<p>155951 rows × 3 columns</p>\n",
              "</div>"
            ],
            "text/plain": [
              "        text1  text2  label\n",
              "0          98    651      0\n",
              "1         696   1870      1\n",
              "2        1073   1620      0\n",
              "3         167    633      0\n",
              "4           4    640      0\n",
              "...       ...    ...    ...\n",
              "155946    546   1512      1\n",
              "155947    720   1902      1\n",
              "155948   1112   1591      0\n",
              "155949    396   1472      1\n",
              "155950   1021   1680      0\n",
              "\n",
              "[155951 rows x 3 columns]"
            ]
          },
          "execution_count": 7,
          "metadata": {},
          "output_type": "execute_result"
        }
      ],
      "source": [
        "df = pd.read_csv(\"pairs-label-training.csv\")\n",
        "df"
      ]
    },
    {
      "cell_type": "code",
      "execution_count": 8,
      "id": "f6c7859b-9fb0-4fb6-9537-e9f3cc9b22a3",
      "metadata": {
        "gather": {
          "logged": 1668008312203
        }
      },
      "outputs": [
        {
          "name": "stderr",
          "output_type": "stream",
          "text": [
            "/tmp/ipykernel_5330/148599554.py:1: DeprecationWarning: 'U' mode is deprecated\n",
            "  file=open('text_and_id_sorted.txt','rU')\n"
          ]
        }
      ],
      "source": [
        "file=open('text_and_id_sorted.txt','rU')\n",
        "content = file.readlines()"
      ]
    },
    {
      "cell_type": "code",
      "execution_count": 9,
      "id": "7ebb18cc-f8af-4bac-8daa-61eb0dae0fe2",
      "metadata": {
        "gather": {
          "logged": 1668008312961
        }
      },
      "outputs": [],
      "source": [
        "y = df['label']\n",
        "X = df.drop('label',axis=1)"
      ]
    },
    {
      "cell_type": "code",
      "execution_count": 10,
      "id": "8ac4f22f-71a6-4e5e-b13e-f6f515086c98",
      "metadata": {
        "gather": {
          "logged": 1668008314354
        }
      },
      "outputs": [
        {
          "data": {
            "text/html": [
              "<div>\n",
              "<style scoped>\n",
              "    .dataframe tbody tr th:only-of-type {\n",
              "        vertical-align: middle;\n",
              "    }\n",
              "\n",
              "    .dataframe tbody tr th {\n",
              "        vertical-align: top;\n",
              "    }\n",
              "\n",
              "    .dataframe thead th {\n",
              "        text-align: right;\n",
              "    }\n",
              "</style>\n",
              "<table border=\"1\" class=\"dataframe\">\n",
              "  <thead>\n",
              "    <tr style=\"text-align: right;\">\n",
              "      <th></th>\n",
              "      <th>text1</th>\n",
              "      <th>text2</th>\n",
              "    </tr>\n",
              "  </thead>\n",
              "  <tbody>\n",
              "    <tr>\n",
              "      <th>0</th>\n",
              "      <td>98</td>\n",
              "      <td>651</td>\n",
              "    </tr>\n",
              "    <tr>\n",
              "      <th>1</th>\n",
              "      <td>696</td>\n",
              "      <td>1870</td>\n",
              "    </tr>\n",
              "    <tr>\n",
              "      <th>2</th>\n",
              "      <td>1073</td>\n",
              "      <td>1620</td>\n",
              "    </tr>\n",
              "    <tr>\n",
              "      <th>3</th>\n",
              "      <td>167</td>\n",
              "      <td>633</td>\n",
              "    </tr>\n",
              "    <tr>\n",
              "      <th>4</th>\n",
              "      <td>4</td>\n",
              "      <td>640</td>\n",
              "    </tr>\n",
              "    <tr>\n",
              "      <th>...</th>\n",
              "      <td>...</td>\n",
              "      <td>...</td>\n",
              "    </tr>\n",
              "    <tr>\n",
              "      <th>155946</th>\n",
              "      <td>546</td>\n",
              "      <td>1512</td>\n",
              "    </tr>\n",
              "    <tr>\n",
              "      <th>155947</th>\n",
              "      <td>720</td>\n",
              "      <td>1902</td>\n",
              "    </tr>\n",
              "    <tr>\n",
              "      <th>155948</th>\n",
              "      <td>1112</td>\n",
              "      <td>1591</td>\n",
              "    </tr>\n",
              "    <tr>\n",
              "      <th>155949</th>\n",
              "      <td>396</td>\n",
              "      <td>1472</td>\n",
              "    </tr>\n",
              "    <tr>\n",
              "      <th>155950</th>\n",
              "      <td>1021</td>\n",
              "      <td>1680</td>\n",
              "    </tr>\n",
              "  </tbody>\n",
              "</table>\n",
              "<p>155951 rows × 2 columns</p>\n",
              "</div>"
            ],
            "text/plain": [
              "        text1  text2\n",
              "0          98    651\n",
              "1         696   1870\n",
              "2        1073   1620\n",
              "3         167    633\n",
              "4           4    640\n",
              "...       ...    ...\n",
              "155946    546   1512\n",
              "155947    720   1902\n",
              "155948   1112   1591\n",
              "155949    396   1472\n",
              "155950   1021   1680\n",
              "\n",
              "[155951 rows x 2 columns]"
            ]
          },
          "execution_count": 10,
          "metadata": {},
          "output_type": "execute_result"
        }
      ],
      "source": [
        "X"
      ]
    },
    {
      "cell_type": "code",
      "execution_count": 11,
      "id": "ee31e3be-fd8d-4a4e-8f97-cdc58085f5ba",
      "metadata": {
        "gather": {
          "logged": 1668008512098
        },
        "jupyter": {
          "outputs_hidden": false,
          "source_hidden": false
        },
        "nteract": {
          "transient": {
            "deleting": false
          }
        }
      },
      "outputs": [
        {
          "name": "stdout",
          "output_type": "stream",
          "text": [
            "NLTK Downloader\n",
            "---------------------------------------------------------------------------\n",
            "    d) Download   l) List    u) Update   c) Config   h) Help   q) Quit\n",
            "---------------------------------------------------------------------------\n",
            "\n",
            "Download which package (l=list; x=cancel)?\n",
            "Packages:\n",
            "\n",
            "Collections:\n",
            "\n",
            "([*] marks installed packages)\n",
            "\n",
            "Download which package (l=list; x=cancel)?\n",
            "Packages:\n",
            "\n",
            "Collections:\n",
            "\n",
            "([*] marks installed packages)\n",
            "\n",
            "Download which package (l=list; x=cancel)?\n",
            "\n",
            "---------------------------------------------------------------------------\n",
            "    d) Download   l) List    u) Update   c) Config   h) Help   q) Quit\n",
            "---------------------------------------------------------------------------\n",
            "\n",
            "---------------------------------------------------------------------------\n",
            "    d) Download   l) List    u) Update   c) Config   h) Help   q) Quit\n",
            "---------------------------------------------------------------------------\n",
            "\n",
            "---------------------------------------------------------------------------\n",
            "    d) Download   l) List    u) Update   c) Config   h) Help   q) Quit\n",
            "---------------------------------------------------------------------------\n",
            "\n",
            "Packages:\n",
            "  [*] abc................. Australian Broadcasting Commission 2006\n",
            "  [*] alpino.............. Alpino Dutch Treebank\n",
            "  [*] averaged_perceptron_tagger Averaged Perceptron Tagger\n",
            "  [*] averaged_perceptron_tagger_ru Averaged Perceptron Tagger (Russian)\n",
            "  [*] basque_grammars..... Grammars for Basque\n",
            "  [*] biocreative_ppi..... BioCreAtIvE (Critical Assessment of Information\n",
            "                           Extraction Systems in Biology)\n",
            "  [*] bllip_wsj_no_aux.... BLLIP Parser: WSJ Model\n",
            "  [*] book_grammars....... Grammars from NLTK Book\n",
            "  [*] brown............... Brown Corpus\n",
            "  [*] brown_tei........... Brown Corpus (TEI XML Version)\n",
            "  [*] cess_cat............ CESS-CAT Treebank\n",
            "  [*] cess_esp............ CESS-ESP Treebank\n",
            "  [*] chat80.............. Chat-80 Data Files\n",
            "  [*] city_database....... City Database\n",
            "  [*] cmudict............. The Carnegie Mellon Pronouncing Dictionary (0.6)\n",
            "  [*] comparative_sentences Comparative Sentence Dataset\n",
            "  [*] comtrans............ ComTrans Corpus Sample\n",
            "  [*] conll2000........... CONLL 2000 Chunking Corpus\n",
            "  [*] conll2002........... CONLL 2002 Named Entity Recognition Corpus\n",
            "  [*] conll2007........... Dependency Treebanks from CoNLL 2007 (Catalan\n",
            "                           and Basque Subset)\n",
            "  [*] crubadan............ Crubadan Corpus\n",
            "  [*] dependency_treebank. Dependency Parsed Treebank\n",
            "  [*] dolch............... Dolch Word List\n",
            "  [*] europarl_raw........ Sample European Parliament Proceedings Parallel\n",
            "                           Corpus\n",
            "  [*] extended_omw........ Extended Open Multilingual WordNet\n",
            "  [*] floresta............ Portuguese Treebank\n",
            "  [*] framenet_v15........ FrameNet 1.5\n",
            "  [*] framenet_v17........ FrameNet 1.7\n",
            "  [*] gazetteers.......... Gazeteer Lists\n",
            "  [*] genesis............. Genesis Corpus\n",
            "  [*] gutenberg........... Project Gutenberg Selections\n",
            "  [*] ieer................ NIST IE-ER DATA SAMPLE\n",
            "  [*] inaugural........... C-Span Inaugural Address Corpus\n",
            "  [*] indian.............. Indian Language POS-Tagged Corpus\n",
            "  [*] jeita............... JEITA Public Morphologically Tagged Corpus (in\n",
            "                           ChaSen format)\n",
            "  [*] kimmo............... PC-KIMMO Data Files\n",
            "  [*] knbc................ KNB Corpus (Annotated blog corpus)\n",
            "  [*] large_grammars...... Large context-free and feature-based grammars\n",
            "                           for parser comparison\n",
            "  [*] lin_thesaurus....... Lin's Dependency Thesaurus\n",
            "  [*] mac_morpho.......... MAC-MORPHO: Brazilian Portuguese news text with\n",
            "                           part-of-speech tags\n",
            "  [*] machado............. Machado de Assis -- Obra Completa\n",
            "  [*] masc_tagged......... MASC Tagged Corpus\n",
            "  [*] maxent_ne_chunker... ACE Named Entity Chunker (Maximum entropy)\n",
            "  [*] maxent_treebank_pos_tagger Treebank Part of Speech Tagger (Maximum entropy)\n",
            "  [*] moses_sample........ Moses Sample Models\n",
            "  [*] movie_reviews....... Sentiment Polarity Dataset Version 2.0\n",
            "  [*] mte_teip5........... MULTEXT-East 1984 annotated corpus 4.0\n",
            "  [*] mwa_ppdb............ The monolingual word aligner (Sultan et al.\n",
            "                           2015) subset of the Paraphrase Database.\n",
            "  [*] names............... Names Corpus, Version 1.3 (1994-03-29)\n",
            "  [*] nombank.1.0......... NomBank Corpus 1.0\n",
            "  [*] nonbreaking_prefixes Non-Breaking Prefixes (Moses Decoder)\n",
            "  [*] nps_chat............ NPS Chat\n",
            "  [*] omw-1.4............. Open Multilingual Wordnet\n",
            "  [*] omw................. Open Multilingual Wordnet\n",
            "  [*] opinion_lexicon..... Opinion Lexicon\n",
            "  [*] panlex_swadesh...... PanLex Swadesh Corpora\n",
            "  [*] paradigms........... Paradigm Corpus\n",
            "  [*] pe08................ Cross-Framework and Cross-Domain Parser\n",
            "                           Evaluation Shared Task\n",
            "  [*] perluniprops........ perluniprops: Index of Unicode Version 7.0.0\n",
            "                           character properties in Perl\n",
            "  [*] pil................. The Patient Information Leaflet (PIL) Corpus\n",
            "  [*] pl196x.............. Polish language of the XX century sixties\n",
            "  [*] porter_test......... Porter Stemmer Test Files\n",
            "  [*] ppattach............ Prepositional Phrase Attachment Corpus\n",
            "  [*] problem_reports..... Problem Report Corpus\n",
            "  [*] product_reviews_1... Product Reviews (5 Products)\n",
            "  [*] product_reviews_2... Product Reviews (9 Products)\n",
            "  [*] propbank............ Proposition Bank Corpus 1.0\n",
            "  [*] pros_cons........... Pros and Cons\n",
            "  [*] ptb................. Penn Treebank\n",
            "  [*] punkt............... Punkt Tokenizer Models\n",
            "  [*] qc.................. Experimental Data for Question Classification\n",
            "  [*] reuters............. The Reuters-21578 benchmark corpus, ApteMod\n",
            "                           version\n",
            "  [*] rslp................ RSLP Stemmer (Removedor de Sufixos da Lingua\n",
            "                           Portuguesa)\n",
            "  [*] rte................. PASCAL RTE Challenges 1, 2, and 3\n",
            "  [*] sample_grammars..... Sample Grammars\n",
            "  [*] semcor.............. SemCor 3.0\n",
            "  [*] senseval............ SENSEVAL 2 Corpus: Sense Tagged Text\n",
            "  [*] sentence_polarity... Sentence Polarity Dataset v1.0\n",
            "  [*] sentiwordnet........ SentiWordNet\n",
            "  [*] shakespeare......... Shakespeare XML Corpus Sample\n",
            "  [*] sinica_treebank..... Sinica Treebank Corpus Sample\n",
            "  [*] smultron............ SMULTRON Corpus Sample\n",
            "  [*] snowball_data....... Snowball Data\n",
            "  [*] spanish_grammars.... Grammars for Spanish\n",
            "  [*] state_union......... C-Span State of the Union Address Corpus\n",
            "  [*] stopwords........... Stopwords Corpus\n",
            "  [*] subjectivity........ Subjectivity Dataset v1.0\n",
            "  [*] swadesh............. Swadesh Wordlists\n",
            "  [*] switchboard......... Switchboard Corpus Sample\n",
            "  [*] tagsets............. Help on Tagsets\n",
            "  [*] timit............... TIMIT Corpus Sample\n",
            "  [*] toolbox............. Toolbox Sample Files\n",
            "  [*] treebank............ Penn Treebank Sample\n",
            "  [*] twitter_samples..... Twitter Samples\n",
            "  [*] udhr2............... Universal Declaration of Human Rights Corpus\n",
            "                           (Unicode Version)\n",
            "  [*] udhr................ Universal Declaration of Human Rights Corpus\n",
            "  [*] unicode_samples..... Unicode Samples\n",
            "  [*] universal_tagset.... Mappings to the Universal Part-of-Speech Tagset\n",
            "  [*] universal_treebanks_v20 Universal Treebanks Version 2.0\n",
            "  [*] vader_lexicon....... VADER Sentiment Lexicon\n",
            "  [*] verbnet3............ VerbNet Lexicon, Version 3.3\n",
            "  [*] verbnet............. VerbNet Lexicon, Version 2.1\n",
            "  [*] webtext............. Web Text Corpus\n",
            "  [*] wmt15_eval.......... Evaluation data from WMT15\n",
            "  [*] word2vec_sample..... Word2Vec Sample\n",
            "  [*] wordnet2021......... Open English Wordnet 2021\n",
            "  [*] wordnet31........... Wordnet 3.1\n",
            "  [*] wordnet............. WordNet\n",
            "  [*] wordnet_ic.......... WordNet-InfoContent\n",
            "  [*] words............... Word Lists\n",
            "  [*] ycoe................ York-Toronto-Helsinki Parsed Corpus of Old\n",
            "                           English Prose\n",
            "\n",
            "Collections:\n",
            "  [*] all-corpora......... All the corpora\n",
            "  [*] all-nltk............ All packages available on nltk_data gh-pages\n",
            "                           branch\n",
            "  [*] all................. All packages\n",
            "  [*] book................ Everything used in the NLTK Book\n",
            "  [*] popular............. Popular packages\n",
            "  [*] tests............... Packages for running tests\n",
            "  [*] third-party......... Third-party data packages\n",
            "\n",
            "([*] marks installed packages)\n",
            "\n",
            "---------------------------------------------------------------------------\n",
            "    d) Download   l) List    u) Update   c) Config   h) Help   q) Quit\n",
            "---------------------------------------------------------------------------\n"
          ]
        },
        {
          "name": "stderr",
          "output_type": "stream",
          "text": [
            "    Error loading ll: Package 'll' not found in index\n"
          ]
        },
        {
          "data": {
            "text/plain": [
              "True"
            ]
          },
          "execution_count": 11,
          "metadata": {},
          "output_type": "execute_result"
        }
      ],
      "source": [
        "  nltk.download()"
      ]
    },
    {
      "cell_type": "code",
      "execution_count": 12,
      "id": "66b3d157-d726-4b2f-abcb-75cc4571285d",
      "metadata": {
        "gather": {
          "logged": 1668008519570
        }
      },
      "outputs": [],
      "source": [
        "mother_corpus = []\n",
        "for line in range(len(content)):\n",
        "    mod_line=content[line]\n",
        "    review = re.sub('[^a-zA-Z]', ' ', mod_line)\n",
        "    review = review.lower()\n",
        "    review = review.split()\n",
        "    review = [lemmatizer.lemmatize(word) for word in review if not word in set(stopwords.words('english'))]\n",
        "    review = ' '.join(review)\n",
        "    mother_corpus.append(review)\n",
        "    "
      ]
    },
    {
      "cell_type": "code",
      "execution_count": 13,
      "id": "e6b91ee4-1e22-4c02-b030-259896d4b46b",
      "metadata": {
        "gather": {
          "logged": 1668008520281
        },
        "scrolled": true,
        "tags": []
      },
      "outputs": [
        {
          "data": {
            "text/plain": [
              "['besides forest naturally developed forest man made forest developed artificially vast area land',\n",
              " 'mother clean rice separating husk mud particle cooking',\n",
              " 'free gift nature thing man cannot produce included land',\n",
              " 'humanism concept man measure thing',\n",
              " 'various design clothing found depending country time man woman person',\n",
              " 'year men developed variety textile material brought new idea clothing',\n",
              " 'noisy environment sleep baby hampered good health',\n",
              " 'question superior profit farmer enclosure rather open field one case chain make change soil price like horse team must jog along rest',\n",
              " 'according nimcock social scientist whole family organisation formed husband wife',\n",
              " 'runner maintain body balance',\n",
              " 'make proper purchasing policy accordance limited resource fulfilling basic requirement food clothing lodging etc family member',\n",
              " 'thus gradually importance labour increased man needed capital cultivation setting factory increasing production',\n",
              " 'others help',\n",
              " 'among student teacher appoints one student policeman ask stand little away circle',\n",
              " 'growth industrialization technology pressed service common man europe',\n",
              " 'door wittenberg church following invention printing press bible reached common man',\n",
              " 'although family difficulty arranging two meal day ramlakhan manages buy milk son',\n",
              " 'survives limitation developed intelligence nt',\n",
              " 'raider back towards corner court defender g simple toe touch g side kick covering corner raider suddenly stop forward movement bend knee kick straight leg side way',\n",
              " 'however man part used technology good man',\n",
              " 'man also understood plant grow better soil loosened',\n",
              " 'water useful plant animal man decreasing day day',\n",
              " 'iodine exist one three oxide chemist produced one oxide wish know one started iodine formed oxide oxide produced',\n",
              " 'men build big palatial building living use radio tv computer vcr etc increasing number',\n",
              " 'start forming idea',\n",
              " 'account holder close account wish',\n",
              " 'chain catch enables player cahin catch hold raider rush towords weak player',\n",
              " 'organism closely related man evolutionary view point',\n",
              " 'stereotype believe people belonging particular group based religion wealth language bound certain fixed characteristic certain type work create stereotype example chapter saw boy girl made take certain subject aptitude either boy girl stereotype prevent u looking people unique individual',\n",
              " 'agriculture subsistence agriculture help farmer produce agricultural product meet bare subsistence family called agriculture subsistence',\n",
              " 'many time tried social law punished',\n",
              " 'ought take pledge extension education male female',\n",
              " 'flower sexual organ angiosperm many plant male female reproductive organ flower although may male female structure different plant together',\n",
              " 'men letter artist began doubt essential tenet enlightenment',\n",
              " 'change time progress civilization economic condition man change',\n",
              " 'blood aid patient transfused healthy person also infected aid',\n",
              " 'observed mother time kitchen keeping cut potato brinjal cold water',\n",
              " 'example nerve cell man elephant long branched',\n",
              " 'therefore men searching new source energy',\n",
              " 'assist teacher various task main duty',\n",
              " 'son',\n",
              " 'dreamt society one work according ability fruit labour consumed collectively cooperative society',\n",
              " 'father brings vegetable fruit help separate',\n",
              " 'patient receiving dialysis filter blood kidney working',\n",
              " 'microorganism earth provides enough satisfy everyman need every man greed',\n",
              " 'order second student raise right hand take one arm distance right marker third student take one arm distance second student',\n",
              " 'perhaps making brick one earliest craft known man',\n",
              " 'young boy girl take part religious social function',\n",
              " 'source water man made',\n",
              " 'day due socio economic reason housewife also engaged various income generating activity outside home',\n",
              " 'c friend sold medicine crossed expiry date advising lodge complaint',\n",
              " 'woman wait long fetch water walk upto km collect fresh water',\n",
              " 'hear voice',\n",
              " 'mother prepared carrot halwa birthday',\n",
              " 'carrying process production ahead man accepted resource',\n",
              " 'superior brute force g fisherman net note game practised lead game game kabaddi',\n",
              " 'every person right profess practice propagate religion belief every religious group sect free manage religious affair right propagate one religion however mean person right compel another person convert religion mean force fraud inducement allurement course person free change religion freedom practice religion mean person whatever want name religion example one cannot sacrifice animal human being offering supernatural force god religious practice treat woman inferior infringe woman freedom allowed example one cannot force widowed woman shave head wear white clothes',\n",
              " 'answer cotton also befooled',\n",
              " 'chaser keep hand outside center line box without folding arm',\n",
              " 'runner keep head neck line trunk',\n",
              " 'periphery man knowledge extended lot',\n",
              " 'occupation activity person acquires resource livelihood viz resource might form cash kind acquired resource called income',\n",
              " 'table show data likely height boy girl grow age draw graph showing height age boy girl graph paper conclusion drawn graph',\n",
              " 'think following situation helping teacher rearrange classroom asks move desk one side classroom would desk heavy lift get across classroom',\n",
              " 'ii semi crouch start body position runner place strong leg toe command mark',\n",
              " 'food man eats produced insect honey',\n",
              " 'father varadappa nayaka mother leelavathi',\n",
              " 'iii consumer feel exploited must file case district consumer court',\n",
              " 'term office five year',\n",
              " 'important step led man progress discovery agriculture',\n",
              " 'space explain think role male female body reproduction',\n",
              " 'businessmen small scale producer good particular began realise uniform law standardised weight measure common national currency would facilitate movement exchange good capital one region another',\n",
              " 'runner keep neck face relaxed running',\n",
              " 'even try accelerate speed last ten metre distance',\n",
              " 'stage implementation take decision job done',\n",
              " 'cell result fusion gamete called zygote process fusion male female gamete form zygote called fertilisation fig zygote develops embryo',\n",
              " 'difference climber potential energy top slope compared reach bottom',\n",
              " 'around oclock morning lot activity beach time catamaran return catch woman gather buy sell fish',\n",
              " 'place foot angle close center line',\n",
              " 'look carefully painting identify object political symbol saw box broken chain red cap fasces charter declaration right pyramid stand equality often represented triangle use symbol interpret painting describe impression female figure liberty',\n",
              " 'man know art bee keeping region early civilization',\n",
              " 'owner land take part type agriculture',\n",
              " 'word men get resource needed satisfy unlimited want',\n",
              " 'teacher explains something student class talk',\n",
              " 'progress information technology brought knowledge literally finger tip man',\n",
              " 'home satisfies man need settle grievance',\n",
              " 'might observed mother boiling milk using storing',\n",
              " 'well ahead festival people clean house throughout pongal rangoli day woman decorate house colourful',\n",
              " 'class man belong',\n",
              " 'people interested science earliest time early man discovered process natural ore metal ornament weapon tool least year ago ancient people already using embalming fluid chemical obtained plant preserve body dead people animal',\n",
              " 'rayon man made fibre',\n",
              " 'call durian king fruit',\n",
              " 'nation constitutes largest community among group man',\n",
              " 'mountain climber climbing mountain drakensberg winter mistake drop water bottle slide side steep icy slope point lower climber position mass climber water bottle mass',\n",
              " 'nature best division',\n",
              " 'number size cell man elephant',\n",
              " 'talk shop owner market find plan work change business past twenty year',\n",
              " 'ancient period men used apply ointment face special part body increase beauty religious reason war many festival protect skin excessive cold heat',\n",
              " 'respiration man human respiratory system consists nose nasal cavity trachea bronchus lung',\n",
              " 'personality enhanced',\n",
              " 'responsibility maintain',\n",
              " 'type pole dive pole dive taking two step distal method active chaser take kho eighth square pole dive take leg opposite direction travel placed first towards pole second step taken free zone simultaneously chaser take support pole right thigh hooking elbow left hand around pole lean across centre line simultaneously swing free arm parallel ground',\n",
              " 'activity teacher suggested harm plant collect plant observation suggest',\n",
              " 'got people village ensured job helped settle city provided money time crisis jobber therefore became person authority power began demanding money gift favour controlling life worker',\n",
              " 'security guard gate enact watchman behaves allow allow',\n",
              " 'person satisfaction food good health closely linked good nutrient food taken',\n",
              " 'live endoparasite intestine man',\n",
              " 'towards man hope understood complex organism formed simpler organism',\n",
              " 'form business owner responsibility unlimited alone share profit loss business',\n",
              " 'reward every work done man',\n",
              " 'manor estate consisting lord land mansion',\n",
              " 'galileo also remarkable craftsman developed series telescope whose optical performance much better telescope available day around designed first pendulum clock book starry messenger astronomical discovery galileo claimed seen mountain moon milky way made tiny star four small body orbiting jupiter book discourse floating body letter sunspot disclosed observation sunspot',\n",
              " 'boy age generally perform outdoor work family',\n",
              " 'friend sitting chair room visible mirror',\n",
              " 'let u observe mother cook also observe cycle mechanic repair cycle try observe farmer plough field',\n",
              " 'woman active goat rearing',\n",
              " 'family society consist man',\n",
              " 'calculate astronaut weight earth mass kg mark',\n",
              " 'mother first ascertain whether taste food alright',\n",
              " 'man',\n",
              " 'whether increase corporate tax sale tax affect living condition common man',\n",
              " 'father name monsur rahman mother name jahanara khatun',\n",
              " 'official residence rashtrapati bhavan',\n",
              " 'side ground dodger loses contact foot touch area outside ground said outside ground',\n",
              " 'also export tobacco sago different spice coconut kernel oil coffee product cottage industry',\n",
              " 'eat like king morning',\n",
              " 'put saree blouse contrast colour look shorter',\n",
              " 'one medical store owner giving antibiotic customer suffering fever without doctor prescription',\n",
              " 'absence vice president presides meeting',\n",
              " 'example home manager interested invite others special occasion shopping enthusiasm quality inspire child family well',\n",
              " 'loris man chimpanzee gorilla orangutan tarsier lemur gibbon monkey prosimian nocturnal solitary feed small insect cercopithecoidea diurnal colonial life food fruit leaf hominoidea',\n",
              " 'discharge function president absence president',\n",
              " 'radical nationalist socialist leaning bose share gandhiji ideal ahimsa though respected father nation january secretly left calcutta home went singapore via germany raised azad hind fauj indian national army ina free india british control ina tried invade india imphal kohima campaign failed ina member imprisoned tried people across country walk life participated movement ina trial',\n",
              " 'young woman wear frequently',\n",
              " 'every citizen right cast vote',\n",
              " 'etc cause communicable parasitic bacteria protozoan various virus communicable disease man',\n",
              " 'termination citizen india event securing citizenship another country citizenship india cancelled legally without expecting application form registration',\n",
              " 'one told go one step backward stand attention position',\n",
              " 'observe figure compare structure humerus ulna metacarpal carpal radius forelimb man forelimb crocodile flipper whale wing bird fig structure forelimb organism',\n",
              " 'also get married point time want spend education',\n",
              " 'way class monitor misusing power',\n",
              " 'make woman striking personality home manager posse quality like impartiality patience cheerfulness righteousness flexibility',\n",
              " 'man imbibed quality running throwing jumping right ancient time nature',\n",
              " 'girl bright complexion wear clothing colour',\n",
              " 'start action runner performs push body stationery position running position quick time called start',\n",
              " 'many people think men lived small family primitive period',\n",
              " 'solar energy sun foremost energy source make life possible earth solar energy used man ancient time',\n",
              " 'even try help others cost interest',\n",
              " 'fine duty housewife express kindness towards servant measuring physical ability psychological attitude',\n",
              " 'mother contribution helping child develop self confidence great',\n",
              " 'therefore new plant grown seed identical mother plant',\n",
              " 'due advantage mother help child sleep inverted position child attains two three month age',\n",
              " 'first proof association evident rock painting made primitive man thousand year ago',\n",
              " 'make business production survive produce new good find new source raw material widen market good',\n",
              " 'style long jump action air sail technique air taking jump athlete bring foot forward raise high possible body lean forward arm side foot',\n",
              " 'one hundred fifty year ago first indian cricketer parsi struggle find open space play today global marketplace made indian player best paid famous cricketer game men world stage history brought transformation made many smaller change replacement gentlemanly amateur paid professional triumph one day game overshadowed test cricket term popularity remarkable change global commerce technology business history make sense change time chapter followed spread colonial sport history tried understand adapted post colonial world',\n",
              " 'boy clothes also selected based feature body',\n",
              " 'work office industry field run business',\n",
              " 'environment surroundings condition person thing exists develops character cover physical cultural element',\n",
              " 'went person gave money collected',\n",
              " 'home manager acquires quality able behave well others convince',\n",
              " 'group organism proximity man',\n",
              " 'man wear beautiful designed clean clothes feel happy',\n",
              " 'win heart people easily gentle behaviour good manner',\n",
              " 'cricket colonial india organised principle race religion first record cricket played india account recreational cricket played english sailor cambay first indian club calcutta cricket club established eighteenth century cricket india almost wholly sport played british military men civil servant white club gymkhana playing cricket privacy club fun also escape strangeness discomfort danger stay india indian considered talent game certainly meant play',\n",
              " 'man rod cell cone cell yellow spot',\n",
              " 'able understand aspect day',\n",
              " 'day bard religious story teller like harikatha used wander around telling story various god goddess like shiva vishnu durga story ramayana mahabharata',\n",
              " 'word bangla mother tongue people east pakistan',\n",
              " 'however man paramount among resource',\n",
              " 'occasion lord used collect several kind levy',\n",
              " 'loos job reason cannot find employment work',\n",
              " 'make use money purchase good service requires',\n",
              " 'parent maadarasa madalambike belonged bagevaadi agrahara',\n",
              " 'believed sweat soaked warm clothing men wheat kept together box day rat would produced',\n",
              " 'c escaping chaser rush pole skill dodger push pole strongly change direction order escape chaser rushing towards',\n",
              " 'relationship man microbe balance us imbalance existing thing world theuniversearounditmadeupoffive basicelements theearth water fire air space',\n",
              " 'alivardi khan died sirajuddaulah became nawab bengal company worried power keen puppet ruler would willingly give trade concession privilege tried though without success help one sirajuddaulah rival become nawab infuriated sirajuddaulah asked company stop meddling political affair dominion stop fortification pay revenue negotiation failed nawab marched soldier english factory kassimbazar captured company official locked warehouse disarmed englishman blockaded english ship marched calcutta establish control company fort',\n",
              " 'mother service holder also spends money family',\n",
              " 'hand grand father grand mother think important person family',\n",
              " 'men woman participated game',\n",
              " 'responsibility individual country known duty',\n",
              " 'position hand adjusted according convenience shot coming towards',\n",
              " 'accident usually take place due individual fault carelessness due haste',\n",
              " 'commission one chairman five member',\n",
              " 'approach bank permitted withdraw',\n",
              " 'fossil modern man discovered first france',\n",
              " 'sound make wow wow food eats life rice meat kennel relationship man friend guard sl',\n",
              " 'duty look task done',\n",
              " 'b threatens send security staff rough neighbour',\n",
              " 'object may appear moving one person stationary passenger moving bus roadside tree appear moving backwards person standing road side perceives bus alongwith passenger moving however passenger inside bus see fellow passenger rest observation indicate',\n",
              " 'reason simple democracy people supreme minister elected people thus empowered exercise people behalf finally answerable people consequence decision minister take final decision minister decides overall framework objective decision policy made minister expected expert matter ministry minister take advice expert technical matter often expert hold different opinion place one option depending overall objective minister decides',\n",
              " 'hunting large animal may taken many day tracking distant place probably done mostly men',\n",
              " 'fig fielder pull hand gradually moving ball holding catch',\n",
              " 'b c physic measuring liquid measuring cylinder fig mother asks get milk milkman',\n",
              " 'safety home make proper arrangement fire extinguishing drainage system dumping refuse',\n",
              " 'cannot live alone',\n",
              " 'age boy girl average height tell graph',\n",
              " 'save money time delight leisure hour',\n",
              " 'kept isolation',\n",
              " 'place leg close sitting box teammate bend forward give kho using nearest hand',\n",
              " 'seeing u talking worker ravi employer came talk u ravi employ one two men worker several woman worker harvesting groundnut men worker generally engaged uproot groundnut plant gather bundle carry bundle place woman engaged pluck groundnut pod plant',\n",
              " 'kind agriculture farmer engages member family',\n",
              " 'ensure proper security system placing preserving instrument',\n",
              " 'land essential part man life',\n",
              " 'muslim sultan padshahs claim incarnation god persian court chronicle described sultan shadow god inscription quwwat al islam mosque explained god chose alauddin king quality moses solomon great lawgiver past greatest lawgiver architect god created world chaos introduced order symmetry',\n",
              " 'prepare questionaire take interview yoga teacher pet sir asana exercise',\n",
              " 'painting female allegory liberty female form symbolises idea freedom',\n",
              " 'person confessed crime police station police locked jail month',\n",
              " 'merchant travelling hamburg nuremberg sell good would pas custom barrier pay custom duty per cent one',\n",
              " 'man mosquito fly cow bird etc animal',\n",
              " 'carpenter make wooden furniture need accuracy measurments ever notice measure whould appreciate',\n",
              " 'participates council meeting provides required information council',\n",
              " 'system opportunity created use natural power material resource welfare man',\n",
              " 'learnt earlier structure flower know flower reproductive part plant stamen male reproductive part pistil female reproductive part fig',\n",
              " 'man belongs upper class middle class lower class family',\n",
              " 'buzzing bee first music dance peacock first entertainment',\n",
              " 'farmer usa work like businessman like peasant farmer',\n",
              " 'hold decorated bow along two slender wooden rod called veesukol',\n",
              " 'affidavit signed document submitted officer person make sworn statement regarding personal information',\n",
              " 'digestive power patient becomes weak attacked disease',\n",
              " 'agriculture underdeveloped productivity low',\n",
              " 'obtained land donation landlord andhra pradesh',\n",
              " 'man saint pure heart',\n",
              " 'also lose ability move around',\n",
              " 'man unisexual',\n",
              " 'power recommend removal minister president',\n",
              " 'fibre natural man made',\n",
              " 'person move along way life growing age depend various person family particular society general',\n",
              " 'working gravity air slows skydiver parachute much surface area',\n",
              " 'try make fire striking two flint stone near cotton dry leaf get feel earliest man life',\n",
              " 'good habit formed',\n",
              " 'search heart heart',\n",
              " 'animal bird man live fruit seed plant',\n",
              " 'implement skill raider quick leg movement posse ability stretch hand withdraw rapidly possible',\n",
              " 'determine maximum velocity reach ski bottom slope',\n",
              " 'ancient time men known mine deep earth crust',\n",
              " 'development knowledge technology man dependance animal economic purpose increased',\n",
              " 'thus possible fully utilize ability skill production',\n",
              " 'reason man cannot satisfy want time',\n",
              " 'person go particular place tray take food according choice eats',\n",
              " 'way one breathe fast life span get reduced ex rabbit dog',\n",
              " 'called universal brotherhood',\n",
              " 'father karama chanda gandhi mother puthalibai',\n",
              " 'someone working domestic help house locality talk find little bit life family member home many hour work much get paid write small story based detail',\n",
              " 'responsibility end distributing work',\n",
              " 'process demand lot men material resourses',\n",
              " 'everybody get recognition according rank wearing office dress',\n",
              " 'men wear trouser shirt',\n",
              " 'earlier day marma men used wear handloom woven clothes named doah',\n",
              " 'said true student go money status committed obtaining knowledge help humanity',\n",
              " 'anxious girl exert become absorbed athletic rivalry therefore play school think better girl learn take interest botany geology etc make country excursion',\n",
              " 'go water get',\n",
              " 'man mistake computer finish work rapidly accurately use computer',\n",
              " 'awadh peasant led baba ramchandra sanyasi earlier fiji indentured labourer movement talukdars landlord demanded peasant exorbitantly high rent variety ce peasant begar work landlord farm without payment tenant security tenure regularly evicted could acquire right leased land',\n",
              " 'careful performance',\n",
              " 'men travel one place another easily',\n",
              " 'men first time started preserving information learnt write',\n",
              " 'r per shirt cost running office came r per shirt calculate profit per shirt garment exporter',\n",
              " 'adopted son weaving muslim couple neeru neema varanasi',\n",
              " 'palm foot rubbed produce heat',\n",
              " 'according material culture created human being converting natural resource man made structure like house building bridge road dam machine production centre industry computer technology others',\n",
              " 'generally ia indian administrative service cadre',\n",
              " 'help u enter classroom time ringing bell',\n",
              " 'b gramabhojaka often got land cultivated',\n",
              " 'land owner directly cultivate land rather employ hired labour',\n",
              " 'science economics economics emerged discipline discus men engaged different activity earn money endeavour satisfy unlimited want limited mean',\n",
              " 'introduction man social animal minimum requirement food clothes shelter medical care education',\n",
              " 'economics economic activity mean activity related money earning money spending men day day life',\n",
              " 'location voluntary muscle remain attached skeletal system muscle hand foot man',\n",
              " 'modern cricket dominated test one day international played national team player become famous live memory cricket public played country player indian fan remember era pentangular quadrangular fortunate enough play test cricket c k nayudu outstanding indian batsman time life popular imagination great contemporary like palwankar vithal palwankar baloo forgotten career lasted long enough play test cricket india',\n",
              " 'different men',\n",
              " 'whistle chaser change direction run give kho sitting chaser',\n",
              " 'early man used extinguish water c wood b wind stone',\n",
              " 'early man domesticate animal',\n",
              " 'impeach name people india whose right trodden foot whose country turned desert lastly name human nature name sex name every age name every rank impeach common enemy oppressor',\n",
              " 'earth full rotation axis hour simultaneously move around sun set route e orbit year',\n",
              " 'mandatory every candidate contest election file affidavit giving detail property criminal case pending',\n",
              " 'example singer singing doctor medical service create utility',\n",
              " 'important degree person age influence need buy capacity perform',\n",
              " 'worried british official political aim birsa movement wanted drive missionary moneylender hindu landlord government set munda raj birsa head movement identified force cause misery munda suffering land policy british destroying traditional land system hindu landlord moneylender taking land missionary criticising traditional culture',\n",
              " 'let learn plant make seed sexual reproduction half male half female genetic material dna fuse combine create new individual combined genetic material parent plant animal animal usually easily identify two sex animal male female animal male female part angiosperm flower sexual organ plant flower produce male female structure either plant two separate plant let u closer look structure flower',\n",
              " 'soon ryotwari area full landlord rented land helpless tenant high rent tenant pay rent three seven time land revenue paid ryots government ryot paid r land revenue piece land government able get r tenant land result interest investing improving agriculture renting higher higher rate',\n",
              " 'sometimes order make child healthy mother brings various type food large quantity front child',\n",
              " 'high jumper going bar think jumping moment foot leave ground go air almost stop go bar come',\n",
              " 'flower contain either pistil stamen called unisexual flower flower contain stamen pistil called bisexual flower corn papaya cucumber produce unisexual flower whereas mustard rose petunia bisexual flower male female unisexual flower may present plant different plant',\n",
              " 'track formation state national international record introduction athletics known father sporting event',\n",
              " 'father brought bamboo nearby forest',\n",
              " 'novel young boy idealised new type man someone powerful assertive independent daring novel full adventure set place remote europe coloniser appear heroic honourable confronting native people strange surroundings adapting native life well changing colonising territory developing nation book like r l stevenson treasure island rudyard kipling jungle book became great hit',\n",
              " 'dotted line show food chain link man',\n",
              " 'considered stage cultural growth started ancestor man',\n",
              " 'b synthetic fibre man made synthetic fibre using coal water air',\n",
              " 'man responsible one mass extinction',\n",
              " 'scientist given solution labelled f scientist test solution universal indicator record result follows',\n",
              " 'observe closely see person take care teeth well structured set teeth',\n",
              " 'somebody spends two three day move around sea beach enjoy beauty nature',\n",
              " 'appalakonda wife dhanamma wake give rice gruel eat appalakonda ready go sea',\n",
              " 'show intervention man effective use resource make modification culture',\n",
              " 'sacrificed everything freedom motherland',\n",
              " 'society consists men',\n",
              " 'man unisexual',\n",
              " 'responsibility man maintaining balance environment starting producer highest consumer proportion number different tropical level ecosystem',\n",
              " 'right handed player place right palm left tightens grip',\n",
              " 'however welfare family home manager carry duty responsibility properly',\n",
              " 'individual identifies citizen particular country citizenship',\n",
              " 'daily starve foodgrain possession wealth posse axe clothes cover body pas cold night fireside dying want food cannot go elsewhere fault done government take care u prisoner supplied ample food jail cultivator grass deprived holding government give u right lived generation past',\n",
              " 'see following example person credit balance account need',\n",
              " 'follow home management process fulfilling demand family housewife responsible executing controlling implementing evaluating household activity performing task appropriately proper planning required first',\n",
              " 'apart holding stick hand goalkeeper wear helmet leg guard kicker kick ball chest protector hand glove groin pelvic protector arm guard',\n",
              " 'th century holland emerged major trading power rise holland maritime supremacy trade map maker made major breakthrough work father dutch cartography gerardus mercator examined previous work much original work map mercator map projection famously known mercator projection world map use based projection',\n",
              " 'know self child ask',\n",
              " 'teacher told would take ground play kho kho',\n",
              " 'education medical care child lie father mother',\n",
              " 'beat bow rhythm set song',\n",
              " 'let u consider example motion body along closed path fig show path athlete along rectangular track abcd let u assume athlete run uniform speed straight part ab bc cd da track order keep track quickly change speed corner many time athlete change direction motion completes one round clear move rectangular track change direction motion four time',\n",
              " 'following chart give average rate growth height boy girl age figure column give percentage height person reached age given column example age boy reached probable full height girl reached full',\n",
              " 'newcomer family adapt new environment',\n",
              " 'exercise military men bold graceful sport likely give increased dexterity use lance sabre cavalry weapon well firmer seat saddle faculty quickly turning right hand left must effective melee battle',\n",
              " 'communicating men depended bodily activity invented new newer technology',\n",
              " 'suppose player change course football passing head towards goal heading',\n",
              " 'woman remain mere reader story written men soon also began write novel language early creation woman poem essay autobiographical piece early decade twentieth century woman south india also began writing novel short story reason popularity novel among woman allowed new conception womanhood story love staple theme many novel showed woman could choose refuse partner relationship showed woman could extent control life woman author also wrote woman changed world men woman',\n",
              " 'bipedal method method covering chaser receives kho get start walking straight knee upper body slightly bent hand stretched straight parallel ground',\n",
              " 'b shoulder touching active defender enters middle line run parallel active chaser side chaser stretch nearest hand touch shoulder defender',\n",
              " 'using accurate balance learner accurately measure correct mass naoh pellet pellet add exactly pure water solution correct concentration explain answer',\n",
              " 'eighteenth century witnessed emergence social group termed middle class earned wealth expanding overseas trade manufacture good woollen silk textile either exported bought richer member society addition merchant manufacturer third estate included profession lawyer administrative official educated believed group society privileged birth rather person social position must depend merit idea envisaging society based freedom equal law opportunity put forward philosopher john locke jean jacques rousseau two treatise government locke sought refute doctrine divine absolute right monarch rousseau carried idea forward proposing form government based social contract people representative spirit law montesquieu proposed division power within government legislative executive judiciary model government put force usa thirteen colony declared independence britain american constitution guarantee individual right important example political thinker france',\n",
              " 'side side also notice common man also follows scientific working procedure',\n",
              " 'raider excutes skill body weight towards centre line',\n",
              " 'may happen patient feel whole body paralised',\n",
              " 'player maintain body balance using method',\n",
              " 'speed sprinter m calculate time taken run distance use magic triangle nd formula term',\n",
              " 'age growth spurt take place boy girl',\n",
              " 'parent keshava dikshit kantimathi',\n",
              " 'refuse sanction project ministry sound technical reason',\n",
              " 'condition common man tsarist regime',\n",
              " 'nizams ruled hyderabad state british follow policy first half th century tried collect maximum land revenue deshmukhs resulted desertion land peasant complete decline agriculture view situation nizam government set new land revenue arrangement government appointed district official collect land revenue directly old landlord compensated annual payment called rusum also given patta right full ownership land adjoining waste land forest landlord realized large export market several agricultural product like castor groundnut etc brought waste land cultivation grow crop work land expanded scope vetti unpaid labour forcing ordinary peasant village artisan service caste work landlord land large landlord called doras doras lived large fortified house called gadi large retinue servant soldier vast land cultivated tenant also land directly cultivated forced labour acted village moneylender also judicial power entire village settled village dispute usually partisan towards upper caste village official like patwaris smaller landlord abide order forcibly ensured lower caste labourer worked upper caste especially landlord enforced rule like lower caste person could wear shirt slipper wear turban always remain bent doras address master',\n",
              " 'borrows r moneylender give r pay back r next day',\n",
              " 'diagram respiratory system man given',\n",
              " 'mother store rice bengal gram jowar wheat etc',\n",
              " 'whenever headman becomes arrogant go wish people panch may remove replace another person alternatively family may leave village settle new place',\n",
              " 'niharika observed electrician repairing street light wearing glove hand asked question would question',\n",
              " 'man',\n",
              " 'family relative also live besides paternal aunt maternal uncle aunt',\n",
              " 'men invented fire advancement civilization gradually learned cook',\n",
              " 'nanga find burden ramlakhan ca n find suitable groom due lack money',\n",
              " 'one obtain capital one either use saving often take loan',\n",
              " 'done rightly say home manager performing social responsibility well',\n",
              " 'malnutrition man suffers various disease',\n",
              " 'man cannot live without water',\n",
              " 'jagini looked forward fair village loved see touch pot pan shiny steel bright plastic bucket cloth printed brilliant floral design clockwork toy came city men spread ware came bus truck went back end day always move wondered mother explained trader people bought thing made sold elsewhere',\n",
              " 'since human social always longs live human',\n",
              " 'housewife also responsible ensure good health mental peace family member',\n",
              " 'freedom consumer every consumer freely consume good according ability desire choice',\n",
              " 'ask one friend hold mirror hand',\n",
              " 'ensure housewife take concrete decision make balance demand resource family',\n",
              " 'bigness slave man smaller',\n",
              " 'find indian farmer want son become farmer',\n",
              " 'inferred ancestor man began walking two leg',\n",
              " 'kinetic energy mark',\n",
              " 'winning toss captain team inform umpire team chooses chase dodge',\n",
              " 'also would realised bamboo could bent make various thing',\n",
              " 'write name workman table',\n",
              " 'carved stone',\n",
              " 'v pivoting player hold ball x one foot without movement move foot direction many time required',\n",
              " 'circumstance mother patient spend time child remain close',\n",
              " 'dream handsome strong intelligent achievement field expects everybody identify respect etc wish arise student guide reach goal',\n",
              " 'kitchen working place woman',\n",
              " 'earmarked first problem increase production',\n",
              " 'mixing chemical dust micro organism harmful man organism air called air pollution',\n",
              " 'work becomes monotonous unattractive',\n",
              " 'one idea market price befooled shopkeeper',\n",
              " 'possible weight man force get distributed number nail',\n",
              " 'work',\n",
              " 'statue body lion head man called',\n",
              " 'even using strength unable escape another technique escaping',\n",
              " 'later keep strong foot close next box bend forward us nearest hand give kho team mate',\n",
              " 'monkey elephant bat cat rat blue whale man example mammal',\n",
              " 'son daughter start family life contract',\n",
              " 'human appoint another human slave',\n",
              " 'aim take bone run back team without caught team score one point player succeeding touching player taking bone reach home score one point',\n",
              " 'group boy girl feel difference taste different food',\n",
              " 'favourable variation led origin modern man',\n",
              " 'child staying coastal region test drinking water also seawater tester find compass needle deflects case seawater explain reason',\n",
              " 'mean satisfy want scarce every man society mean resource satisfy want limited',\n",
              " 'farmer move along boundary square field side magnitude displacement farmer end minute second initial position',\n",
              " 'herbivorous animal also good source vitamin man',\n",
              " 'citizen approach court right violated',\n",
              " 'nature machine working altered man',\n",
              " 'usually elder sister take care younger brother sister',\n",
              " 'poet describe relationship deity',\n",
              " 'lead financial problem family increased exploitation woman',\n",
              " 'chaser th box give kho chaser th box dodger run towards pole stabilizes',\n",
              " 'man take food feel hungry',\n",
              " 'would float',\n",
              " 'vector example mosquito microorganism man',\n",
              " 'showing back assumed night',\n",
              " 'try observe blacksmith work beat hot iron piece repeatedly till shape change',\n",
              " 'heat required earth sustain life men animal grow plant tree',\n",
              " 'shanars also called nadars community toddy tapper migrated southern travancore work nair landlord considered subordinate caste prohibited using umbrella wearing shoe golden ornament men woman also expected follow local custom never covering upper body upper caste',\n",
              " 'man made fibre include nylon polyester acrylic rayon',\n",
              " 'dog cat first playmate',\n",
              " 'take case shoe manufacturer want sell shoe market buy wheat shoe manufacturer first exchange shoe produced money exchange money wheat',\n",
              " 'suitable tool instrument help woman perform various activity well grow interest woman housewife towards work',\n",
              " 'c call police station asking register complaint likely filed relative',\n",
              " 'time watch trouble mother taking get rid bed wetting habit',\n",
              " 'living style man pre historic period',\n",
              " 'charles darwin gordon childe theory evolution single significant doctrine changed man outlook th century',\n",
              " 'wear bright dark colour',\n",
              " 'home manager adjust try pursue member family adjust new routine',\n",
              " 'male member go market help head family cleaning house',\n",
              " 'man landed moon sent space shuttle explore planet universe',\n",
              " 'top slope potential energy',\n",
              " 'mehtakalu kaaluchanda thruptha parent',\n",
              " 'power governor governor appoints chief minister advice appoints rest minister',\n",
              " 'wealth person calculated number cattle possessed',\n",
              " 'student speci c number run towards teacher form number front',\n",
              " 'number male percent number female',\n",
              " 'eventfully roll shoulder hip region',\n",
              " 'law expression general female male citizen say either personally representative formulation female male citizen equally entitled honour public employment according ability without distinction talent',\n",
              " 'child inserting electric plug socket see thin piece aluminium foil stuck pin plug turned switch noticed spark plug time light went could happened cause spark make light go mark',\n",
              " 'athelete found drugged competition allowed participate competition',\n",
              " 'country parliament consists two house two house known council state rajya sabha house people lok sabha president india part parliament although member either house law made house come force receive assent president',\n",
              " 'pole turn using distal method method chaser sitting box next pole soon get kho opposite leg towards pole jump foot grip pole hand place foot behind pole free zone turn direction',\n",
              " 'democritus idea matter ignored forgotten year englishman name john dalton reintroduced scientific world dalton made five claim atom still largely accepted truth today three claim postulate commonly called tell u understand element get remaining two postulate later dalton taught u element',\n",
              " 'sultan advised slave one brought promoted must looked need whole lifetime good luck find worthy experienced slave wise men said worthy experienced slave better son',\n",
              " 'parasitic nutrition louse hair mother try get rid applying medicine',\n",
              " 'anyone submitted account relative cannot contest election',\n",
              " 'man voice reach limited distance',\n",
              " 'need give power panchayat realise dream mahatma gandhi hope maker constitution panchayati raj establishes true democracy restores power place power belongs democracy hand people giving power panchayat also way reduce corruption increase administrative efficiency people participate planning implementation developmental scheme would naturally exercise greater control scheme would eliminate corrupt middleman thus panchayati raj strengthen foundation democracy',\n",
              " 'absence vice president presides meeting',\n",
              " 'whistle teacher first member group run fast possible tell circle marker come start ing line',\n",
              " 'two type baton exchange method visual method outgoing runner keep eye incoming runner collect baton hand',\n",
              " 'wish becomes law',\n",
              " 'person solely invests capital run business',\n",
              " 'seller get money buyer sell commodity',\n",
              " 'mean one female literate comparison two male',\n",
              " 'mutual fund common man retail investor find difficulty investing money share market',\n",
              " 'thunder may strike even head man standing field',\n",
              " 'passing time man knowledge increased',\n",
              " 'result gradually becomes skilled efficient work',\n",
              " 'change form shape place material given nature thereby create new utility',\n",
              " 'though husband wife closest relation sometimes contradict',\n",
              " 'man social',\n",
              " 'civilised nation kind clothing use present time among woman country indeed sign shamelessness educated men greatly agitated almost everyone wish another kind civilised clothing custom woman wearing fine transparent clothing reveals whole body shameless attire way allows one frequent civilised company clothes stand way moral improvement',\n",
              " 'policeman',\n",
              " 'situation home manager act tactfully dint self controlling power proceed pleasantly bring back harmony family',\n",
              " 'duty responsibility home manager towards family classified two group',\n",
              " 'person giving rst aid allow people getting around injured person prevents injured fresh air stop bleeding immediately stop bleeding injured person unconscious little water sprinkled face bring conscious state start give rst aid',\n",
              " 'woman fond game like kari guti kanamachi bagbandhi',\n",
              " 'person humiliated criticised society abide rule society',\n",
              " 'driver car travelling km h applies brake accelerates uniformly opposite direction car stop another driver going km h another car applies brake slowly stop graph paper plot speed versus time graph two car two car travelled farther brake applied',\n",
              " 'find average body measurement boy girl class separately school health record available take teacher help measure component perfectly record note book per table given',\n",
              " 'man fails lift heavy stone work said done',\n",
              " 'man make sound two light diaphragm like reverse v called vocal chord human voice machine',\n",
              " 'health person help realise potential ability fight illness',\n",
              " 'example porter lift luggage kg ground put head ground calculate work done luggage',\n",
              " 'ancient time men preparing using soap cleaning agent',\n",
              " 'starting bathe child mother need soak piece cotton water squeeze water',\n",
              " 'panch impose fine may even force person leave village even order gond relation prohibition',\n",
              " 'deposit minimum tk initial deposit application form',\n",
              " 'bullet toe method method chaser sits toe strong foot touching front line box strong leg placed little behind strong leg',\n",
              " 'communicate others man used various method',\n",
              " 'principal figure indian district collector title suggests main job collect revenue tax maintain law order district help judge police officer darogas office collectorate became new centre power patronage steadily replaced previous holder authority',\n",
              " 'section talking sex cell either male female sex cell carry half genetic material dna typical cell sex cell fuse two half male female organism make new organism combined genetic material dna',\n",
              " 'digestive gland man salivary gland liver panereas work',\n",
              " 'men sweat profusely summer owing hard work',\n",
              " 'try reach foot defender',\n",
              " 'line nearer face person wear vertically seem long facial appearance',\n",
              " 'responsible discharging duty related control force training operation administration',\n",
              " 'conflict arise animal man',\n",
              " 'daily life accident take place injured person reach doctor given immediate relief',\n",
              " 'play important role maintaining good relationship centre state',\n",
              " 'nimone village chauphula shirur road like many others village also facing severe water shortage last month villager depend tanker need bhagvan mahadeo lad village beaten stick iron rod ax group seven men incident came light villager brought badly injured lad hospital treatment fir recorded police lad said attacked insisted water tanker must emptied storage tank constructed part water supply scheme nimone gram panchayat would equal distribution water however alleged upper caste men told tanker water meant lower caste',\n",
              " 'mother use salt cooking fish meat vegetable',\n",
              " 'international date line fixed place body cross longitude observe creates problem determine day week along difference local time',\n",
              " 'much potential energy hiker end journey reached original starting position',\n",
              " 'mixture component natural man made',\n",
              " 'boy muscle body grow prominently girl thus change occurring adolescent boy girl different',\n",
              " 'sweeper increase motion hand using handle broom',\n",
              " 'man cannot create new thing',\n",
              " 'effect interference man natural phenomenon',\n",
              " 'may seen physical feat demonstrated men',\n",
              " 'course time fire discovered learnt eat cooked food',\n",
              " 'ancestor man practical knowledge using weapon',\n",
              " 'man respiratory system consists nasal aperture pharynx larynx trachea bronchus bronchiole pair lung made alveolus',\n",
              " 'chapter learnt people tribal society govern male member different family tribe gather discus decide headman implement decision etc',\n",
              " 'besides daily activity home manager arrange variety function related various occasion season performing activity make responsible beginning end',\n",
              " 'one analyse personality evaluate personality also',\n",
              " 'food demand man woman',\n",
              " 'living being including man natural right',\n",
              " 'take step fulfill demand family within scarce resource',\n",
              " 'sivaraman plan send son school come age',\n",
              " 'child easily attracted food mother taste food feeding make expression showing food tasty',\n",
              " 'gas compressed particle forced closer together look photo scuba diver underwater see tank back us tank breathe underwater scuba diver stay underwater almost hour think get enough air breathe whole hour small tank like discus class',\n",
              " 'man',\n",
              " 'men many area wear shirt dhuti punjabi',\n",
              " 'trader gave seed fertiliser loan pay back loan sell paddy somewhat lower price would get market sent agent remind farmer taken loan sell paddy',\n",
              " 'better democracy prime minister whatever wish prime minister need consult leader party',\n",
              " 'smile word become attractive others',\n",
              " 'sole trader us skill responsible loss',\n",
              " 'thus give relief extent parent pressure duty',\n",
              " 'without prior notice government could search person house',\n",
              " 'result necessary fund economic development mobilized internally',\n",
              " 'sphinx animal body lion head man',\n",
              " 'mla constituency tolpatti serious shortage water woman travel kilometre collect water many tanker put service supply water many well pond cleaned disinfected',\n",
              " 'bulbil give rise new plant get detached mother plant fall ground',\n",
              " 'summer season people busy cultivating barley potato pea bean turnip climate winter month harsh people keep engaged festivity ceremony woman hard working work house field also manage small business shop leh capital ladakh well connected road air national highway connects leh kashmir valley zoji la pas name pass himalaya',\n",
              " 'father syed raisuddin mother nurunnessa mullik',\n",
              " 'neil armstrong first man moon',\n",
              " 'soon cross starting line second team player line hold waist first runner circle marker together return starting line third player hold second runner waist three circle marker together run back',\n",
              " 'find buyer shoe',\n",
              " 'comparison man animal based variation number amino acid b chain haemoglobin chimpanzee gorilla rhesus monkey dog man table',\n",
              " 'experience may help go new invention',\n",
              " 'everyone agreed colony serve interest mother country',\n",
              " 'day landlord actively evicting small peasant taking land give new tenant higher rent sanghams became active resist notorious zamindar visnuri ramachandra reddy tried forcibly take land washerwoman ilamma resisted effectively sangham retaliation zamindar fired upon demonstration peasant kadivendi village killed doddi komaraiah july incident sparked famous telangana armed struggle sanghams set village village procession taken singing song doddi komarayya doras nizam tried violently suppress movement forced sangham build squad armed fighter began drive away zamindars set rule village panchayat',\n",
              " 'peasant peasant woman',\n",
              " 'algae used food man aquatic animal',\n",
              " 'pharmacist dispensary http www flickr com photo n',\n",
              " 'man cannot take everything',\n",
              " 'g proximal method distal method method giving kho chaser receiving kho keep front leg outside box direction move',\n",
              " 'besides man willingly carried many fruit seed one place another even one country another',\n",
              " 'studied social life man',\n",
              " 'soil condition think farmer would treat soil field quick lime calcium oxide slaked lime calcium hydroxide chalk calcium carbonate',\n",
              " 'besides man animal electrified touch bare hand',\n",
              " 'officer army employee king therefore bound follow order king could ensure command common people obeyed',\n",
              " 'meet doctor locality ask different type disease caused different micro organism note discus friend',\n",
              " 'men cover body anything primitive time',\n",
              " 'given full rest place proper ventilation',\n",
              " 'one u',\n",
              " 'catcher act cathes skill',\n",
              " 'many workman around u',\n",
              " 'labour bodily connected labourer presence labourer indispensable time selling labour',\n",
              " 'man able meet minimum need lead life known member particular class identity class show poverty',\n",
              " 'example sign used teacher maintain silence teaching friend speaks nger mouth',\n",
              " 'home became need man became civilized',\n",
              " 'hence mother consider changing bathing procedure sometime',\n",
              " 'might recall similar situation example taking penalty kick football player applies force ball hit ball rest speed zero applied force make ball move towards goal suppose goalkeeper dive jump save goal action goalkeeper try apply force moving ball force applied stop deflect ball saving goal scored goalkeeper succeeds stopping ball speed decrease zero',\n",
              " 'consider demand willingness unwillingness family member',\n",
              " 'man satisfies want buying good service',\n",
              " 'remember president exercise power advice council minister president ask council minister reconsider advice advice given bound act according similarly bill passed parliament becomes law president give assent president want delay time send bill back parliament reconsideration parliament pass bill sign',\n",
              " 'give command first student team say kabaddi kabaddi run around indian club thing return running back ward team mate sits behind',\n",
              " 'time washed laundry man',\n",
              " 'touch physician keep instrument medicine right place',\n",
              " 'chinese emperor sent lin ze xu canton special commissioner instruction stop opium trade arrived canton spring lin arrested men involved trade confiscated pound opium forced foreign factory hand stock opium burnt crate opium blew ash wind announced canton closed foreign trade britain declared war defeated opium war chinese forced accept humiliating term subsequent treaty legalizing opium trade opening china foreign merchant',\n",
              " 'right say man interferes evolutionary process keeping nature aside',\n",
              " 'many thing around u occur naturally mixture salty sea water moist air soil compost rock mixture mineral name many mixture man made instance coca cola paint salad dressing forth',\n",
              " 'take active step implementing activity according plan monitor implementation process taking proper step',\n",
              " 'observe movement attacking side give special attention attacking player well ball',\n",
              " 'men fall sick taking contaminated food',\n",
              " 'old merchant elite calcutta patronised public form entertainment kabirlarai poetry contest musical soiree dance performance contrast new bhadralok found home private world reading novel',\n",
              " 'imagined telephone would one day become inseparable part daily life',\n",
              " 'foot work player majority situation except backhand player move within court start movement right lead leg',\n",
              " 'ancient time men used eat fire burnt food present time civilized world men learnt many technique cooking',\n",
              " 'c child class refuse share food particular person think dirty',\n",
              " 'scuba diver oxygen tank back breathe underwater',\n",
              " 'justified domination civilising missionand white man burden',\n",
              " 'mean lost capacity work',\n",
              " 'unable run',\n",
              " 'mother must take special care elder child wet bed due arrival younger brother sister family',\n",
              " 'stage observe whether work done accordingly take decision measure',\n",
              " 'new plant generally bear characteristic mother plant',\n",
              " 'potential energy mark',\n",
              " 'save non infected person germ tuberculosis may present normal man',\n",
              " 'seen mother cooking delicious food',\n",
              " 'give piece paper student',\n",
              " 'way person perform duty social',\n",
              " 'man slave habit',\n",
              " 'man cow goat buffalo sheep deer whale etc example mammal',\n",
              " 'man need food eat clothes wear house live medicine recover illness beverage drink',\n",
              " 'mother hence careful',\n",
              " 'education make man polite gentle',\n",
              " 'chapter french revolution today often take idea liberty freedom equality granted need remind idea also history looking french revolution read small part history french revolution led end monarchy france society based privilege gave way new system governance declaration right man revolution announced coming new time idea individual right could claim equality became part new language politics notion equality freedom emerged central idea new age different country reinterpreted rethought many different way anti colonial movement india china africa south america produced idea innovative original spoke language gained currency late eighteenth century',\n",
              " 'characteristic sound help identify friend voice sitting others dark room',\n",
              " 'construction house started civilized man need home increased accordance change society',\n",
              " 'peasant movement demanded reduction revenue abolition begar social boycott oppressive landlord many place nai dhobi bandhs organised panchayat deprive landlord service even barber washerman june jawaharlal nehru began going around village awadh talking villager trying understand grievance october oudh kisan sabha set headed jawaharlal nehru baba ramchandra others within month branch set village around region non cooperation movement began following year effort congress integrate awadh peasant struggle wider struggle',\n",
              " 'aspect hitler ideology related geopolitical concept lebensraum living space believed new territory acquired settlement would enhance area mother country enabling settler new land retain intimate link place origin would also enhance material resource power german nation',\n",
              " 'modern civilized society men accustomed enjoy life collectively',\n",
              " 'also gave information eye eye sensitive part',\n",
              " 'example bulky short size girl use vertical long line appropriate clothing',\n",
              " 'contribution photosynthesis human civilization men survive photosynthesis present green plant',\n",
              " 'mother start feeding child expression distaste sight food child interested taking food',\n",
              " 'father golikere krishnaraya mother tungabai',\n",
              " 'class captain maintains contact class teacher headmaster different purpose',\n",
              " 'first men made fibre rayon',\n",
              " 'cytologist carry research cell applies advanced biochemical technique',\n",
              " 'though bangladesh adequate manpower worker le skilled due lack proper education training',\n",
              " 'fair understanding great men contributed branch evolutionary science',\n",
              " 'head family male family member usually perform outside activity',\n",
              " 'anitha mother mixed jeera wheat flour',\n",
              " 'artificial man made fibre divided two category',\n",
              " 'informal training mean training employee gain duty',\n",
              " 'person posse willing work continuously succeeds',\n",
              " 'one habit reading book news paper bed keep table lamp shade',\n",
              " 'know whether speaker boy girl',\n",
              " 'developed brain understood evolution towards modern man merely biological evolution',\n",
              " 'mother household chore',\n",
              " 'due lack vitamin man suffers eyesight weakness',\n",
              " 'three hundred fish needed support one man year trout turn must consume frog must consume million grasshopper live ton grass',\n",
              " 'therefore sound health person important capital investment development transforming valuable resource',\n",
              " 'might observed mother sensing temperature baby gentle touch hand',\n",
              " 'also help mother cooking performing domestic chore',\n",
              " 'mother give upma breakfast pick piece chilli',\n",
              " 'give con dence injured relative present nearby inform nearby doctor early possible',\n",
              " 'brother may like',\n",
              " 'coming back house like item may return',\n",
              " 'think reach velocity',\n",
              " 'active production man start taking effort production',\n",
              " 'person express personal view give advice different matter',\n",
              " 'since beginning civilization found every human engaged making home',\n",
              " 'athlete fails take attempt within alloted time attempt considered foul next athlete given chance take jump jump athlete come back cross take board attempt considered foul attempt',\n",
              " 'rear view mirror car plane mirror driver reversing car speed driver see rear view mirror image truck parked behind car speed image truck appears approach driver',\n",
              " 'toad eat benefit men',\n",
              " 'man go daily various activity',\n",
              " 'attitude mother food served child much importance',\n",
              " 'scouting help make boy girl patriotic good ideal citizen',\n",
              " 'hardly labourer land',\n",
              " 'large cattle farm called ranch looked sturdy men called cowboy fig',\n",
              " 'sense smell dog sense smell dog one lakh time greater man',\n",
              " 'activity essential live earth protect wild animal enemy',\n",
              " 'home manager posse quality able draw attention others',\n",
              " 'ampere named andr marie amp french mathematician physicist considered father electrodynamics study effect electromagnetic force electric charge current',\n",
              " 'man',\n",
              " 'spread one know infected',\n",
              " 'consumer buy product certain price according need',\n",
              " 'male gamete found inside pollen grain female gamete found ovule',\n",
              " 'jilebi maker add something jilebi mix leaf sometime help make good jalebes mix type plant called yeast',\n",
              " 'course time man understood fire provides light heat night also keep wild animal away',\n",
              " 'football player kicked ball greater force would scored goal',\n",
              " 'soil compared mother',\n",
              " 'make list food eaten different part india make list language besides mother tongue speak least one two word',\n",
              " 'see mirror learn others physical appearance look like',\n",
              " 'copper sulphate crystal often include water chemist trying determine number mole water copper sulphate crystal weighs copper sulphate heat heating find mass number mole water crystal copper sulphate represented',\n",
              " 'cooking person wear clothes tightly',\n",
              " 'must posse qualification necessary become member lok sabha',\n",
              " 'given enough liquid diet toxic element body washed urine',\n",
              " 'b combination raiding raider start cant court play according comfort',\n",
              " 'example washer men tailor blacksmith potter cobbler etc earn money profession across village town bangladesh',\n",
              " 'anyone failed pay revenue lost zamindari',\n",
              " 'always wanted go london desire stimulated letter old workmate working old kent road gas work finally decided go november two friend started walk journey filled hope would able obtain employment get kind assistance friend little money started enough pay food lodging night arrived london day walked much twenty mile day le money gone end third day two night slept haystack old farm shed arrival london tried find friend unsuccessful money gone nothing u walk around late night try find place sleep found old building slept night next day sunday late afternoon got old kent gas work applied work great surprise man looking working time spoke foreman given job',\n",
              " 'supervise work accordingly well',\n",
              " 'spends earned money buy essential good satisfy want consumption good',\n",
              " 'vigorous exercise boy get cricket etc must supplied case girl walking skipping',\n",
              " 'godan gift cow published remains premchand best known work epic indian peasantry novel tell moving story hori wife dhania peasant couple landlord moneylender priest colonial bureaucrat hold power society form network oppression rob land make landless labourer yet hori dhania retain dignity end',\n",
              " 'girl dark complexion use clothes light bright colour',\n",
              " 'make lie stomach head turned side',\n",
              " 'ahom society divided clan khels caste artisan artisan ahom area came adjoining kingdom khel often controlled several village peasant given land village community even king could take away without community consent',\n",
              " 'heard mother aunt talking cousin going baby discussing whether would give birth boy girl wonder make fertilised egg develop either boy girl',\n",
              " 'person applies hydrogen peroxide wound',\n",
              " 'father yoga sage patanjali wrote yoga sutra nd century b c',\n",
              " 'man set artificial satellite space order acquire various knowledge space',\n",
              " 'defender contact raider till go court',\n",
              " 'men woman age participate celebration',\n",
              " 'school going girl morning school take breakfast due rush',\n",
              " 'dna study show neanderthal man modern man separated year ago',\n",
              " 'besides important men probably sayin local administration included nagara shreshthior chiefbanker merchant city sarthavaha leaderof merchant caravan prathama kulikaor chiefcraftsman head kayasthasor scribe',\n",
              " 'addition prime responsibility make child well educated good natured future family society depends',\n",
              " 'popular historical novelist tamil r krishnamurthy wrote pen name kalki active participant freedom movement editor widely read tamil magazine anandavikatan kalki written simple language full heroism adventure suspense kalki novel captivated tamil reading public entire generation',\n",
              " 'imagine conversation french coloniser vietnamese labourer canal project frenchman belief bringing civilization backward people vietnamese labourer argues',\n",
              " 'tenure land taken cultivation depositing certain amount money security landlord called kanam',\n",
              " 'look entire executive work municipality besides providing necessary information council',\n",
              " 'final stage election day voter cast poll vote day usually called election day every person whose name voter list go nearby polling booth situated usually local school government office voter go inside booth election official identify put mark finger allow cast vote agent candidate allowed sit inside polling booth ensure voting take place fair way',\n",
              " 'mother feel child want take care take lap child refrain long child type mentality',\n",
              " 'process knitting sweater six year old boy described',\n",
              " 'fig minimum temperature thousand year man using water extinguish fire',\n",
              " 'therefore difference potential energy moving top slope bottom',\n",
              " 'like worm tapeworm hook worm roundworm live small intestine man',\n",
              " 'honey probably associated man since early day',\n",
              " 'depending mother convenience better bathe child morning hour day',\n",
              " 'continue take pulse every minute minute',\n",
              " 'bring mother water',\n",
              " 'fusion male female gamete termed',\n",
              " 'command teacher rst player team start move around opponent team around team gure eight pattern resume initial position',\n",
              " 'game played passive chaser shall get without getting kho changing direction',\n",
              " 'think growth spurt took place hint think back age puberty boy girl differ',\n",
              " 'naturally first select important want try satisfy limited resource',\n",
              " 'nutrition subject regarding man health food',\n",
              " 'attempt registered name jumper case touch right cross bar landing pit taking',\n",
              " 'woman always vote way men tell point giving right vote',\n",
              " 'sulphur known man ancient period time',\n",
              " 'answer iron befooled',\n",
              " 'fish frog man',\n",
              " 'patient vomited either inserting nger mouth consuming lukewarm salt water',\n",
              " 'men born misconception',\n",
              " 'therefore woman child especially girl child old people poorest poor',\n",
              " 'natural man made temporary permanent change state change shape',\n",
              " 'whatever take always digested properly',\n",
              " 'example man satisfies basic want like food clothing housing etc feel want different good lead better standard living',\n",
              " 'leader settled dispute organised food supply arranged informal credit also brought important information',\n",
              " 'agricultural system backward faulty',\n",
              " 'story indulekha interesting light debate suri nambuthiri foolish landlord come marry indulekha focus much satire novel intelligent heroine reject chooses madhavan educated handsome nayar husband young couple move madras madhavan join civil service suri nambuthiri desperate find partner finally marries poorer relation family go away pretending married indulekha chandu menon clearly wanted reader appreciate new value hero heroine criticise ignorance immorality suri nambuthiri',\n",
              " 'people conceive idea family originated time men accepted cultivation profession',\n",
              " 'policeman nd leader',\n",
              " 'one us creativity little bit one prepare doormat',\n",
              " 'english cultivated taste chinese tea chinese became addicted opium people class took drug shopkeeper peddler official army men aristocrat pauper lin ze xu special commissioner canton estimated million opium smoker china',\n",
              " 'hair symbol beauty bengali woman',\n",
              " 'agree saying man evolved monkey',\n",
              " 'used sharp stone bone loosen soil learnt produce food',\n",
              " 'ail people regardless male female religion caste enjoy right equally',\n",
              " 'calculate initial velocity decelerated m',\n",
              " 'fusion male female gamete called fertilisation',\n",
              " 'standard deferred payment man future receipt payment accounted figure money',\n",
              " 'eye donation noble deed cornea person donated upto six hour death',\n",
              " 'power reshuffle cabinet',\n",
              " 'may used rest player nished g g raid',\n",
              " 'engaged study consumer propensity demand storing good preserving proper marketing',\n",
              " 'seller control price demand commodity',\n",
              " 'man homo sapiens',\n",
              " 'indicator common group includes man monkey',\n",
              " 'family becomes happy prosperous establishment son daughter',\n",
              " 'look friend eye observe size pupil throw light eye torch observe pupil switch torch observe pupil notice change size pupil case pupil larger think',\n",
              " 'man quest understanding change eager know inside earth',\n",
              " 'ramesh complete work lifting water well rasheeda move wall spite several attempt',\n",
              " 'flow chart showing event sexual reproduction male parent female parent gamete production male gamete female gamete fusion fertilization zygote embryo young individual organism reproduce sexual method',\n",
              " 'attitude mother food given child make child eager unconcerned towards taking food',\n",
              " 'took land kanam tenure kanam tenant',\n",
              " 'sir john sargeant chairman central advisory board education chairman commission',\n",
              " 'teacher men highest ability talent follow teaching buddha sincerity rule monastery strict everyone follow discussion held throughout day old young mutually help one another learned men different city come settle doubt gatekeeper asks new entrant difficult question allowed enter able answer seven eight every ten able answer',\n",
              " 'islam propagated strict monotheism submission one god also rejected idol worship considerably simplified ritual worship collective prayer time muslim scholar developed holy law called shariat sufi often rejected elaborate ritual code behaviour demanded muslim religious scholar sought union god much lover seek beloved disregard world like saint poet sufi composed poem expressing feeling rich literature prose including anecdote fable developed around among great sufi central asia ghazzali rumi sadi like nathpanthis siddhas yogi sufi believed heart trained look world different way developed elaborate method training using zikr chanting name sacred formula contemplation sama singing raqs dancing discussion parable breath control etc guidance master pir thus emerged silsilas genealogy sufi teacher following slightly different method tariqa instruction ritual practice',\n",
              " 'father dy land distributed among child thus per caput land gradually decreasing',\n",
              " 'mental development hampered outlook becomes narrow',\n",
              " 'result increased coastal erosion activity man would adversely affect marine ecosystem',\n",
              " 'farmer growing tomato heard daughter plant produce glucose photosynthesis decided see however tested leaf find much glucose find lot starch present',\n",
              " 'source sovereignty resides nation nothing union woman man',\n",
              " 'leader lok sabha',\n",
              " 'ask friend b front move foot aside place happens see image mirror',\n",
              " 'adolescent boy girl must confident strong minded',\n",
              " 'woman even employed task',\n",
              " 'figure basic stance skill goal keeper vii ball stopping skill goal keeper stop movement maintain basic position stable manner attacker take shot',\n",
              " 'though landowner treat well continues work since get loan need rama tell u source credit landless people sonpur landowner employer',\n",
              " 'would man animal live earth',\n",
              " 'reason man easily attacked various type disease',\n",
              " 'bottle gourd watermelon papaya plant bearing unisexual flower whether male female flower born plant separate plant',\n",
              " 'location voluntary muscle remain attached skeletal system muscle hand foot man',\n",
              " 'anyone member committee last three year cannot become member another committee',\n",
              " 'number time man breathes minute called breathing rate',\n",
              " 'pushing anti tactic defensive skill important raider keep complete control body mean raider made go line',\n",
              " 'fig fire brigade men ghting know day pocket extinguisher bc type available',\n",
              " 'shop keeper usually store eatable like sweet biscuit glass jar shopkeeper want customer able see item know easily see glass material said transparent',\n",
              " 'boojho want know male gamete pollen grain reach female gamete present ovule',\n",
              " 'ramanamma said meet ward councillor protest since elected',\n",
              " 'suppose want go friend house know way friend may make rough drawing show way house',\n",
              " 'light sound vocal cord men mm long',\n",
              " 'saying go eye nothing',\n",
              " 'likewise cheque book withdraw money account',\n",
              " 'place another foot one step ahead',\n",
              " 'person lived century ago return india would greatly surprised change come country',\n",
              " 'science always potential protector man',\n",
              " 'thus mother five time increase upto ten time day',\n",
              " 'extract last speech salvador allende pronounced ayen president chile country south america speech given morning september day government overthrown military allende founder leader socialist party chile led popular unity coalition victory presidential election elected president allende taken several policy decision help poor worker included reform educational system free milk child redistribution land landless farmer opposed foreign company taking away natural resource like copper country landlord rich church opposed policy political party chile also opposed government',\n",
              " 'want make change preplanned action use imagination creative power',\n",
              " 'depends land existence',\n",
              " 'daily life man face unlimited want good like food clothing housing medicine etc',\n",
              " 'cause different disease man plant',\n",
              " 'common man third estate bear first second estate french middle class progress trade industry banking led rise city france',\n",
              " 'responsibility duty home manager towards family',\n",
              " 'prime minister india leader ruling party lok sabha mp belong party prime minister selects minister work implement decision minister take charge different area government functioning like health education finance etc',\n",
              " 'organization one owner procures capital personal initiative discharge responsibility business including risk bearing called single ownership business',\n",
              " 'person breathing problem given oxygen',\n",
              " 'constitution say much power prime minister minister relationship head government prime minister wide ranging power chair cabinet meeting coordinate work different department decision final case disagreement arise department exercise general supervision different ministry minister work leadership prime minister distributes redistributes work minister also power dismiss minister prime minister quits entire ministry quits',\n",
              " 'friend sat run one kilometre',\n",
              " 'flower fruit new plant bear similar characteristic mother plant',\n",
              " 'man capacity justice make democracy possible man inclination injustice make democracy necessary',\n",
              " 'according social tradition housewife responsibility look father law mother law husband child',\n",
              " 'chasing skill sitting box type sitting box parallel toe method method chaser sits box keeping foot parallel line',\n",
              " 'economic activity man two type money earning related activity b money spending related activity',\n",
              " 'income received common man lower per caput income',\n",
              " 'man life society',\n",
              " 'denial right men occur different place like service arrangement military police local body educational institution etc',\n",
              " 'man animal directly dependent plant',\n",
              " 'fifthly use language tell others feel experience suppose early hunter gatherer saw tree full ripe fruit far place could use language tell friend found suppose hurt pain tell parent without using language',\n",
              " 'time need modesty scarf loose clothes comfortable movement',\n",
              " 'subject matter economics deal analysis economic problem men society satisfaction want',\n",
              " 'much depth farmer plough field',\n",
              " 'action point',\n",
              " 'elder brother sister help youngers study',\n",
              " 'also suffers jaundice headache',\n",
              " 'ask student represents earth spin revolve around chair along elliptical path',\n",
              " 'ought unselfish game merges individual eleven play may win side may true said tom football cricket one come think much better game five hare hound others object come first win oneself one side may win captain eleven said master post school world requiring skill gentleness firmness know rare quality extract tom brown schooldays thomas hughes',\n",
              " 'allocates portfolio minister',\n",
              " 'bear huge responsibility posse basic quality making remarkable effort honesty sincerity',\n",
              " 'earlier said andhra pradesh two house second house called legislative council existence two spell till today permanent house member house known mlcs elected six year every two year one third member retire contest house person citizen india year age hold office profit state indian government must posse qualification may prescribed parliament consists member composition follows',\n",
              " 'stage make planning keeping demand choice family member afterward take decision',\n",
              " 'cannot move arm leg',\n",
              " 'headman lost position importance election sarpanches general election',\n",
              " 'table rda male female year year',\n",
              " 'rabindranath tagore developed bengali novel bankim death early novel historical later shifted writing story domestic relationship mainly preoccupied condition woman nationalism concern featured ghare baire translated home world story bimala wife nikhilesh liberal landlord belief save country patiently bettering life poor marginal section bimala attracted sandip husband friend firebrand extremist sandip completely dedicated throwing british mind poor low caste suffer muslim made feel like outsider becoming part sandip group bimala get sense self worth self esteem rabindranth also show contradictory effect nationalist involvement woman bimala may admired young male group cannot influence decision indeed used sandip acquire fund movement tagore novel striking make u rethink man woman relationship nationalism',\n",
              " 'see picture crouch participant standing shape bend body close left palm right knee folding left leg bend right leg slightly forward',\n",
              " 'think sport girl boy participate',\n",
              " 'political party motivated desire power even forced serve people bit like way market work even shopkeeper interested profit forced give good service customer customer go shop similarly political competition may cause division ugliness finally help force political party leader serve people',\n",
              " 'elected leader',\n",
              " 'social biology social biology study man life men animal plant affect',\n",
              " 'inspite man affected microscopic organism',\n",
              " 'improve farming zamindar immediately increase share take',\n",
              " 'method information revolutionized modern man life computer network',\n",
              " 'activity reproduction plant advantageous animal including man many way',\n",
              " 'political science one social science dealing political activity man',\n",
              " 'order move laterally take convenient position taking one step forward middle goal line creating imaginary curve two goal post',\n",
              " 'bee sting friend would help',\n",
              " 'one remains till end strongest sh rewarded',\n",
              " 'woman country use gold ornament',\n",
              " 'family smallest basic group man',\n",
              " 'man made ecology called artificial ecology',\n",
              " 'man made first synthetic fibre nylon',\n",
              " 'many conscious mother put piece soft cloth folding head baby change every per requirement',\n",
              " 'although contact opponent allowed handball one make use hand leg',\n",
              " 'goal political association preservation natural right woman man right liberty property security resistance oppression',\n",
              " 'hereafter mother need bathe child till child becomes able bathe take care body',\n",
              " 'achieve tidiness bringing together person clothing cosmetic',\n",
              " 'raider start chanting kabaddi court one breath',\n",
              " 'determine mass sodium hydroxide pellet need use',\n",
              " 'farmer try earn increase income fishing running business side side farming profession',\n",
              " 'merchant would take coin bank would weigh find amount pure metal give receipt open account whenever required could ask pure metal could also transfer another person required',\n",
              " 'dip thermometer liquid use',\n",
              " 'see shot touch palm',\n",
              " 'take metal wooden strip strike one end ask friend hear sound keeping ear end strip ask friend difference noticed hearing sound ear away strip touching strip fig',\n",
              " 'specific work done done done etc related duty responsibility',\n",
              " 'want rich man ordinary man want go increasing',\n",
              " 'gond patla occasionally defend village outsider time villager would get together fight behalf village also saw met expense entertaining guest holding festival extra income got one day labour villager field income far little tribal headman become rich powerful ordinary people tribe would support headman obey command convinced interest',\n",
              " 'boy occupies item long time boy girl deprived',\n",
              " 'characteristic backward system agriculture present country',\n",
              " 'g birla industrialist attacked colonial control indian economy supported civil disobedience movement first launched gave financial assistance refused buy sell imported good businessmen came see swaraj time colonial restriction business would longer exist trade industry would flourish without constraint failure round table conference business group longer uniformly enthusiastic apprehensive spread militant activity worried prolonged disruption business well growing influence socialism amongst younger member congress',\n",
              " 'imaginary country called happyland people overthrew foreign ruler brought back old royal family said ancestor king foreigner started ruling u good one strong ruler help u become rich powerful someone talked democracy wise men said foreign idea struggle throw foreigner idea country someone demanded freedom medium elder thought much criticism ruler would help improve living standard king kind interested welfare subject create problem want happy',\n",
              " 'pariksha guru reflects inner outer world newly emerging middle class character novel caught difficulty adapting colonised society time preserving cultural identity world colonial modernity seems frightening irresistible character novel try teach reader right way live expects sensible men worldly wise practical remain rooted value tradition culture live dignity honour',\n",
              " 'circumstance teacher understand tendency child age group play role ideal teacher try best solve problem',\n",
              " 'friend communicate phone stand away string tightly held one speak cup listen putting cup ear',\n",
              " 'stand knee slightly exed upper body bent slightly forward',\n",
              " 'social man creates family',\n",
              " 'charles darwin set voyage year old five year voyage took south america island coast study conducted voyage change forever way look variety life earth interestingly got back england never left shore stayed home conducted various experiment led formulate hypothesis evolution took place due natural selection know mechanism whereby variation arose specie would enlightened mendel experiment two gentleman know work',\n",
              " 'along mother brother sister brought small bamboo',\n",
              " 'appointed government',\n",
              " 'well ned good fortune could expected might killed day landed spent six jolly month wandering together hunter plain must die let u behave like englishman christian',\n",
              " 'way gradually duty responsibility housewife expand',\n",
              " 'woman exception accused arrested detained case determined law woman like men obey rigorous law',\n",
              " 'herder herding sheep kraal mother sheep lamb running towards kraal sheep mass lamb mass calculate kinetic energy sheep lamb',\n",
              " 'move towards direction ball',\n",
              " 'men hear sound dog hears come master',\n",
              " 'prime minister head government actually exercise governmental power take decision cabinet meeting',\n",
              " 'previously men dependent article available nature',\n",
              " 'man mortal everyone die day one must resolve lay one life enriching noble ideal self respect bettering one human life nothing disgraceful brave man live life devoid self respect',\n",
              " 'astronaut performs experiment determine relationship mass weight different planet take scale set spaceship measure weight different planet solar system following table indicates result',\n",
              " 'buying book thing school going girl luxury cannot afford',\n",
              " 'necessity food intake like protein vitamin mineral salt essential grown boy girl',\n",
              " 'death mallasarja fought bravely british called brave woman',\n",
              " 'tell cheap rate shop polite manner may buy low price',\n",
              " 'good health dancer may mean able stretch body difficult graceful position',\n",
              " 'gradually body develops antibody rh factor',\n",
              " 'sc sg car driven municipal area driver see traffic officer speed trap realises travelling fast immediately applies brake car still away speed trap',\n",
              " 'g wrist catch g ankle catch thigh catch raider standing leg apart trying touch hand defensive player',\n",
              " 'shop keeper replied arm standard measuring',\n",
              " 'athlete found guilty competition case medal prize withdrawn athlete imposed ban several year life time',\n",
              " 'colonial bungalow quite different haveli meant one nuclear family large single storeyed structure pitched roof usually set one two acre open ground separate living dining room bedroom wide veranda running front sometimes three side kitchen stable servant quarter separate space main house house run dozen servant woman household often sat veranda supervise tailor tradesman',\n",
              " 'minister flag new train constituency week polling day',\n",
              " 'fixed place',\n",
              " 'many law implemented tardily due delay implementation large landlord used best advantage using loop hole tenancy act zamindars regained control land tenant zamindars abolition continued big landlord claiming land',\n",
              " 'characteristic make man different organism',\n",
              " 'air pollution defined substance put air activity mankind concentration sufficient cause harmful effect health vegetation property',\n",
              " 'observed rain water falling ground rhythm fully ripe grain pod tossing head gently breeze',\n",
              " 'hand civil case always lodged person feel suffered due cheating breach contract',\n",
              " 'baba guru nanak young man discussion holy men',\n",
              " 'taking effective preventive measure severe disease man become able recover illness avoid inevitable death',\n",
              " 'suppose person wish open saving account branch agrani bank home town',\n",
              " 'shoulder manage various responsibility run family proper order',\n",
              " 'male female autosome pair sex chromosome',\n",
              " 'stamp post cover parcel speed post write letter friend inviting attend village fair',\n",
              " 'age modern science technology duty responsibility housewife increased',\n",
              " 'good understanding salesman provide customer opportunity select required item',\n",
              " 'prof marshall land mean upper crust earth whole force nature give freely man aid land water air light heat',\n",
              " 'father taking help another person built mud wall',\n",
              " 'haseena sir girl jasmine owers vijaya teacher summer jasmine rainy season dahlia winter chrysanthemum',\n",
              " 'saw custom tribe understood adult male member community important conducting activity community',\n",
              " 'led quiet significant social revolution gave watchword one caste one religion one god men',\n",
              " 'boy help father gardening home cleaning yard field outside house',\n",
              " 'peasant obey whatever lord manager commanded',\n",
              " 'potheri kunjambu lower caste writer north kerala wrote novel called saraswativijayam mounting strong attack caste oppression novel show young man untouchable caste leaving village escape cruelty brahmin landlord convert christianity obtains modern education return judge local court meanwhile villager thinking landlord men killed file case conclusion trial judge reveals true identity nambuthiri repents reform way saraswativijayam stress importance education upliftment lower caste',\n",
              " 'case use scarce mean satisfy prioritized want',\n",
              " 'side side teach family member social custom manner ideology also encourage exercise properly',\n",
              " 'fig mother goddess',\n",
              " 'activity draw circle oor make person stand circumference stand centre facing let rotate foot also come around circumference',\n",
              " 'used tractor measure plough nail length',\n",
              " 'individual may feel relaxed realise sense judgement sense timing muscular coordination seriously impaired',\n",
              " 'respect said task distributed according capability member encourage perform task best ability skill helping become self reliant',\n",
              " 'right citizen mean opportunity privilege',\n",
              " 'woman household chore well take part cultivation',\n",
              " 'people began gather discus issue village council bazaar festival wherever headman priest several village assembled initiative taken dhurwas kanger forest reservation first took place although single leader many people speak gunda dhur village nethanar important figure movement mango bough lump earth chilli arrow began circulating village actually message inviting villager rebel british every village contributed something rebellion expense bazaar looted house official trader school police station burnt robbed grain redistributed attacked way associated colonial state oppressive law william ward missionary observed event wrote direction came streaming jagdalpur police merchant forest peon schoolmaster immigrant',\n",
              " 'however recent year rise coalition politics imposed certain constraint power prime minister prime minister coalition government cannot take decision like accommodate different group faction party well among alliance partner also heed view position coalition partner party whose support survival government depends',\n",
              " 'saw peacock dancing gracefully onset monsoon could see grace poise even deadly tiger snake',\n",
              " 'mentality make man aloof',\n",
              " 'calculate difference climber potential energy top slope potential energy bottom slope',\n",
              " 'make list birthday great men nation learn',\n",
              " 'india independence british',\n",
              " 'fisherman',\n",
              " 'post man gave',\n",
              " 'bill nye science guy talk food web',\n",
              " 'know brand new bicycle shiny handlebar wheel rim however accidentally scratched shiny coating come revealing shiny surface beneath might also seen woman using ornament appear made gold however repeated use gold coating wear revealing silver metal beneath',\n",
              " 'grabing ball kick throw partner',\n",
              " 'man first landed moon rocket',\n",
              " 'compare difference seen male female human being animal',\n",
              " 'problem scarcity resource scarcity resource root cause economic problem man',\n",
              " 'men started wearing tree bark cover modesty',\n",
              " 'checkout facing light source view shadow person shadow falling',\n",
              " 'player place stress thumb nger method',\n",
              " 'b woman soldier',\n",
              " 'mother prepares food u',\n",
              " 'person need lens power dioptre correcting distant vision correcting near vision need lens power dioptre focal length lens required correcting distant vision ii near vision',\n",
              " 'rest portion left man animal heterophytic plant',\n",
              " 'day child wet bed mother need happy encourage child',\n",
              " 'oxygen indispensable respiration man animal',\n",
              " 'customer behaves nicely salesman may get best thing shop',\n",
              " 'blow whistle stand near card inside circle',\n",
              " 'social science economics deal economic activity man',\n",
              " 'create scope entertainment arranging picnic site seeing sort family amusement',\n",
              " 'love enemy pray persecute may child heavenly father make sun rise bad good cause rain fall unjust',\n",
              " 'view ownership allah man perform activity production earning livelihood distribution resource according dictate allah',\n",
              " 'farmer told growing wheat added manure soil make fertile told child wheat would fetch good price mandi would taken factory make bread biscuit flour',\n",
              " 'earth take full day complete rotation axis',\n",
              " 'ball reach player raise either thigh trunk level foot word',\n",
              " 'regard first would select proper residence keeping member family healthy condition',\n",
              " 'long year ago made tryst destiny time come shall redeem pledge wholly full measure substantially stroke midnight hour world sleep india awake life freedom moment come come rarely history step old new age end soul nation long suppressed find utterance fitting solemn moment take pledge dedication service india people still larger cause humanity',\n",
              " 'attempt release man prison complex caste system pattern worship based superstition',\n",
              " 'would committed mistake',\n",
              " 'fig show sculpture panel depicting stupa see flying figure top supposed god heaven came worship buddha',\n",
              " 'normally woman worker earn r per day whereas men worker get r per day harvest sowing season woman worker get r per day whereas male worker get r per day government employment scheme men well woman get r per day non agricultural activity loading unloading sand brick construction work get little r men r woman work scarce',\n",
              " 'write story slave grihapati travelled village city pataliputra master',\n",
              " 'man regarded low brahmin even scavenger',\n",
              " 'agriculture conducted farmer sell product market earn profit',\n",
              " 'especially selection clothing woman adolescent girl facial structure given importance',\n",
              " 'teacher teacher help student teaching good human being',\n",
              " 'invention fire beginning man scared forest fire lightning could understand',\n",
              " 'place resident really king country whatever injunction non interference may act long prince act perfect subservience agreeable resident british government thing go quietly managed without resident appearing much administration affair anything different nature happens moment prince take course british government think wrong come clashing disturbance',\n",
              " 'commissioner met large group said enough truck',\n",
              " 'questioned change happen nature',\n",
              " 'interestingly even person know swim would drown sea',\n",
              " 'information nazi practice trickled germany last year regime war ended germany defeated world came realise horror happened german preoccupied plight defeated nation emerging rubble jew wanted world remember atrocity suffering endured nazi killing operation also called holocaust ghetto inhabitant said another wanted outlive war half hour presumably meant wanted able tell world happened nazi germany indomitable spirit bear witness preserve document seen many ghetto camp inhabitant wrote diary kept notebook created archive hand war seemed lost nazi leadership distributed petrol functionary destroy incriminating evidence available office',\n",
              " 'management firm establishment firm organizer performs essential organizational function coordinate work different section appoints worker suitable place according fitness ensures operation machine etc',\n",
              " 'self conscious experiment dress engaged men woman upper class caste many part india tagore family bengal experimented beginning design national dress men woman india rabindranath tagore suggested instead combining indian european dress india national dress combine element hindu muslim dress thus chapkan long buttoned coat considered suitable dress men',\n",
              " 'life earth interdependent man strand delicate web relationship',\n",
              " 'biggest man made canal linking mediterranean sea red sea',\n",
              " 'among except coal others man made',\n",
              " 'victim may look asleep body execute movement',\n",
              " 'going bed early getting early man health mental ability increase',\n",
              " 'discharge duty helping mother giving breakfast guest making room tidy',\n",
              " 'meaning behind people thought beyond common man identifying problem',\n",
              " 'crop ripened harvested grain used harvested cradle sickle harvest time hundred men woman could seen field cutting crop cyrus mccormick invented first mechanical reaper could cut one day much five men could cut cradle men sickle',\n",
              " 'woman distressed lot weaving also household chore like cooking food fetching water preparing child go school etc',\n",
              " 'aroused people realise men equal birthright every individual enjoy liberty equality',\n",
              " 'uprising began october sensing trouble prime minister kerenskii left city summon troop dawn military men loyal government seized building two bolshevik newspaper pro government troop sent take telephone telegraph office protect winter palace swift response military revolutionary committee ordered supporter seize government office arrest minister late day ship aurora shelled winter palace vessel sailed neva took various military point nightfall city committee control minister surrendered meeting russian congress soviet petrograd majority approved bolshevik action uprising took place city heavy fighting especially moscow december bolshevik controlled moscow petrograd area',\n",
              " 'person pay tax imposed burden tax borne',\n",
              " 'would help clinical thermometer',\n",
              " 'tendency make person eager establish relation neighbour taking across frontier premise family',\n",
              " 'nobody keep paper long time',\n",
              " 'search led man concept vaccine',\n",
              " 'mental attitude power housewife assessed',\n",
              " 'example housewife able cook new item food must try make',\n",
              " 'sister elder daughter take care household',\n",
              " 'man polite patient listen others say sorrow suffering try solve problem',\n",
              " 'man engaged activity satisfy ever increasing want',\n",
              " 'peasant artisan worker new businessmen enjoyed new found freedom',\n",
              " 'gangamma water goddess protects fisherman go sea',\n",
              " 'fisherman net draw circle among player one sherman',\n",
              " 'man depend member family society childhood last day life',\n",
              " 'thus global agricultural economy taken shape accompanied complex change labour movement pattern capital flow ecology technology food longer came nearby village town thousand mile away grown peasant tilling land agricultural worker perhaps recently arrived working large farm generation ago likely forest transported railway built purpose ship increasingly manned decade low paid worker southern europe asia africa caribbean',\n",
              " 'sprinter come close nish line immidiatly push shoulder complete race',\n",
              " 'hippocrates father medicine listed organism medicinal value',\n",
              " 'producer business men firm produce exchange good according desire profit',\n",
              " 'man power focus eye time object front',\n",
              " 'man well plant close relationship soil',\n",
              " 'implement decision council',\n",
              " 'early man protected sun light rain wind wild animal living cave bush',\n",
              " 'fire always sacred man',\n",
              " 'rent paid zamindar high right land insecure pay rent take loan often moneylender failed pay rent evicted land cultivated generation',\n",
              " 'everyday dawn dusk man life influenced animal',\n",
              " 'state resource obtained producer peasant cattle keeper artisan often persuaded compelled surrender part produced sometimes claimed rent due lord asserted owned land revenue also collected trader',\n",
              " 'optometrist hold lens front patient eye correct vision following image show lens used correct far near sightedness',\n",
              " 'besides man misuse natural resource comfort',\n",
              " 'man save environment',\n",
              " 'common man food almost totally carbohydrate',\n",
              " 'father history herodotus thucydides great historian',\n",
              " 'housewife also able create diversity normal routine work',\n",
              " 'buyer understand seller demanded high price try convince',\n",
              " 'myna eat insect lion eats deer tiger eats men etc',\n",
              " 'advice prime minister appoints minister',\n",
              " 'salesman shown good behaviour help collect necessary item customer initiative',\n",
              " 'mother prepares breakfast every morning',\n",
              " 'using time properly human prosper personal social life contribute economic development country well',\n",
              " 'must realise difference among family must respect get along others',\n",
              " 'know man cannot survive long without eating',\n",
              " 'suppose one friend broke arm leg playing football upon falling tree',\n",
              " 'time man cause loss bio diversity',\n",
              " 'develop sense humanity among child also responsibility housewife',\n",
              " 'enterprise main purpose organiser producer gain profit production may suffer loss due various reason particularly due uncertainty future',\n",
              " 'patient becomes unaware action behaviour towards others',\n",
              " 'marx contended philosophy must become reality man transform world',\n",
              " 'easiest method produce plant characteristic mother plant cutting grafting',\n",
              " 'want know logical answer question',\n",
              " 'iii landing clearing cross bar land ing soft pit sand pit jumper place right leg right hand rst',\n",
              " 'help science man developed various field related life mean livelihood',\n",
              " 'build large room upper storey made baked brick get large small well dug plant tree thorny bush necessary get canal constructed irrigation ensure water wasted embankment built',\n",
              " 'research breed new seed crop',\n",
              " 'entrepreneur plan establishment business firm',\n",
              " 'towards eastern western side earth specific boundary taken end border',\n",
              " 'digestive system man know food take average hour pas way digestive system',\n",
              " ...]"
            ]
          },
          "execution_count": 13,
          "metadata": {},
          "output_type": "execute_result"
        }
      ],
      "source": [
        "mother_corpus"
      ]
    },
    {
      "cell_type": "code",
      "execution_count": 14,
      "id": "d1c8f490-a2ea-4a50-a244-9ff368212e02",
      "metadata": {
        "gather": {
          "logged": 1668008526096
        }
      },
      "outputs": [],
      "source": [
        "corpus = []\n",
        "#content = file.readlines()\n",
        "for row in range(len(X.index)):\n",
        "    value1 = X.iat[row, 1]\n",
        "    value2 = X.iat[row, 0]\n",
        "    line1 = mother_corpus[value1-1]\n",
        "    line2 = mother_corpus[value2-1]\n",
        "    final_line=line1+' '+line2\n",
        "    corpus.append(final_line)"
      ]
    },
    {
      "cell_type": "code",
      "execution_count": 15,
      "id": "e4318961-f8ce-4a42-b870-672cd7503f89",
      "metadata": {
        "gather": {
          "logged": 1668008526569
        },
        "scrolled": true,
        "tags": []
      },
      "outputs": [],
      "source": [
        "# corpus"
      ]
    },
    {
      "cell_type": "code",
      "execution_count": 16,
      "id": "be36c4a9-3d05-49ee-8712-c137691c6e4c",
      "metadata": {
        "gather": {
          "logged": 1668008532524
        }
      },
      "outputs": [
        {
          "name": "stdout",
          "output_type": "stream",
          "text": [
            "Number of tokens: 26441 \n",
            " ['besides', 'forest', 'naturally', 'developed', 'forest', 'man', 'made', 'forest', 'developed', 'artificially', 'vast', 'area', 'land', 'your', 'mother']\n"
          ]
        }
      ],
      "source": [
        "# Load, tokenize and process the data\n",
        "import re                                                           #  Load the Regex-modul\n",
        "with open('text_and_id_sorted.txt') as f:\n",
        "    data = f.read()                                                 #  Read in the data\n",
        "data = re.sub(r'[.,!?;-]', ' ',data)                                #  Punktuations are replaced by space\n",
        "data = nltk.word_tokenize(data)                                     #  Tokenize string to words\n",
        "data = [lemmatizer.lemmatize(word) for word in data if not word in set(stopwords.words('english'))]\n",
        "data = [ ch.lower() for ch in data if ch.isalpha() or ch == '.']    #  Lower case and drop non-alphabetical tokens\n",
        "print(\"Number of tokens:\", len(data),'\\n', data[:15])               #  print data sample"
      ]
    },
    {
      "cell_type": "code",
      "execution_count": 17,
      "id": "89c4064f-3490-4338-8d8a-a5d500046297",
      "metadata": {
        "gather": {
          "logged": 1668008533004
        }
      },
      "outputs": [
        {
          "name": "stdout",
          "output_type": "stream",
          "text": [
            "Size of vocabulary:  6417\n",
            "Most frequent tokens:  [('the', 435), ('man', 233), ('in', 145), ('one', 131), ('he', 116), ('water', 105), ('a', 101), ('men', 97), ('also', 95), ('plant', 95), ('time', 91), ('take', 91), ('make', 86), ('food', 86), ('it', 83), ('people', 81), ('if', 78), ('work', 76), ('different', 76), ('land', 71)]\n"
          ]
        }
      ],
      "source": [
        "# Compute the frequency distribution of the words in the dataset (vocabulary)\n",
        "fdist = nltk.FreqDist(word for word in data)\n",
        "print(\"Size of vocabulary: \",len(fdist) )\n",
        "print(\"Most frequent tokens: \",fdist.most_common(20) ) # print the 20 most frequent words and their freq."
      ]
    },
    {
      "cell_type": "code",
      "execution_count": 18,
      "id": "9e21380e-7fa7-4de6-bbf9-392391c3e3ea",
      "metadata": {
        "gather": {
          "logged": 1668008533502
        }
      },
      "outputs": [],
      "source": [
        "from tensorflow.keras.preprocessing.text import one_hot"
      ]
    },
    {
      "cell_type": "code",
      "execution_count": 19,
      "id": "c8b3867c-625d-4f49-987d-497930f9b6ad",
      "metadata": {
        "gather": {
          "logged": 1668008533951
        }
      },
      "outputs": [],
      "source": [
        "voc_size=6417"
      ]
    },
    {
      "cell_type": "code",
      "execution_count": null,
      "id": "95e8bf49-b604-4c1f-86b3-ee257f1bf951",
      "metadata": {},
      "outputs": [],
      "source": []
    },
    {
      "cell_type": "code",
      "execution_count": 20,
      "id": "34bca14a-2c59-4dd5-bf1f-88d17d795d24",
      "metadata": {
        "gather": {
          "logged": 1668008534672
        }
      },
      "outputs": [],
      "source": [
        "onehot_repr=[one_hot(words,voc_size)for words in mother_corpus] \n",
        "# print(onehot_repr)"
      ]
    },
    {
      "cell_type": "code",
      "execution_count": 21,
      "id": "763661d5",
      "metadata": {
        "gather": {
          "logged": 1668008535189
        }
      },
      "outputs": [],
      "source": [
        "from tensorflow.keras.layers import Embedding\n",
        "from tensorflow.keras.preprocessing.sequence import pad_sequences\n",
        "from tensorflow.keras.models import Sequential"
      ]
    },
    {
      "cell_type": "code",
      "execution_count": 22,
      "id": "89e37fbf",
      "metadata": {
        "gather": {
          "logged": 1668008535708
        }
      },
      "outputs": [],
      "source": [
        "import numpy as np"
      ]
    },
    {
      "cell_type": "code",
      "execution_count": 23,
      "id": "4b5fee3a",
      "metadata": {
        "gather": {
          "logged": 1668008536269
        }
      },
      "outputs": [
        {
          "name": "stdout",
          "output_type": "stream",
          "text": [
            "[[   0    0    0 ... 4680 1446 3143]\n",
            " [   0    0    0 ... 4316 6309 3019]\n",
            " [   0    0    0 ... 1152 2101 3143]\n",
            " ...\n",
            " [   0    0    0 ... 4143 3554 6356]\n",
            " [   0    0    0 ...  204  208  763]\n",
            " [   0    0    0 ...  740 1234 2307]]\n"
          ]
        }
      ],
      "source": [
        "sent_length=1000\n",
        "embedded_docs=pad_sequences(onehot_repr,padding='pre',maxlen=sent_length)\n",
        "print(embedded_docs)"
      ]
    },
    {
      "cell_type": "code",
      "execution_count": 24,
      "id": "e1a721ae",
      "metadata": {
        "gather": {
          "logged": 1668008536835
        }
      },
      "outputs": [
        {
          "data": {
            "text/plain": [
              "(2000, 1000)"
            ]
          },
          "execution_count": 24,
          "metadata": {},
          "output_type": "execute_result"
        }
      ],
      "source": [
        "embedded_docs.shape"
      ]
    },
    {
      "cell_type": "code",
      "execution_count": 25,
      "id": "3e7eb47a",
      "metadata": {
        "gather": {
          "logged": 1668008537327
        }
      },
      "outputs": [],
      "source": [
        "dim=10"
      ]
    },
    {
      "cell_type": "code",
      "execution_count": 26,
      "id": "555aa874",
      "metadata": {
        "gather": {
          "logged": 1668008537979
        }
      },
      "outputs": [
        {
          "name": "stderr",
          "output_type": "stream",
          "text": [
            "2022-11-09 15:42:11.917863: I tensorflow/stream_executor/platform/default/dso_loader.cc:48] Successfully opened dynamic library libcuda.so.1\n",
            "2022-11-09 15:42:12.203229: I tensorflow/core/common_runtime/gpu/gpu_device.cc:1716] Found device 0 with properties: \n",
            "pciBusID: 0001:00:00.0 name: Tesla M60 computeCapability: 5.2\n",
            "coreClock: 1.1775GHz coreCount: 16 deviceMemorySize: 7.94GiB deviceMemoryBandwidth: 149.31GiB/s\n",
            "2022-11-09 15:42:12.203281: I tensorflow/stream_executor/platform/default/dso_loader.cc:48] Successfully opened dynamic library libcudart.so.10.1\n",
            "2022-11-09 15:42:12.690778: I tensorflow/stream_executor/platform/default/dso_loader.cc:48] Successfully opened dynamic library libcublas.so.10\n",
            "2022-11-09 15:42:13.159970: I tensorflow/stream_executor/platform/default/dso_loader.cc:48] Successfully opened dynamic library libcufft.so.10\n",
            "2022-11-09 15:42:13.342238: I tensorflow/stream_executor/platform/default/dso_loader.cc:48] Successfully opened dynamic library libcurand.so.10\n",
            "2022-11-09 15:42:14.298683: I tensorflow/stream_executor/platform/default/dso_loader.cc:48] Successfully opened dynamic library libcusolver.so.10\n",
            "2022-11-09 15:42:14.606797: I tensorflow/stream_executor/platform/default/dso_loader.cc:48] Successfully opened dynamic library libcusparse.so.10\n",
            "2022-11-09 15:42:14.607210: W tensorflow/stream_executor/platform/default/dso_loader.cc:59] Could not load dynamic library 'libcudnn.so.7'; dlerror: libcudnn.so.7: cannot open shared object file: No such file or directory\n",
            "2022-11-09 15:42:14.607225: W tensorflow/core/common_runtime/gpu/gpu_device.cc:1753] Cannot dlopen some GPU libraries. Please make sure the missing libraries mentioned above are installed properly if you would like to use GPU. Follow the guide at https://www.tensorflow.org/install/gpu for how to download and setup the required libraries for your platform.\n",
            "Skipping registering GPU devices...\n",
            "2022-11-09 15:42:14.607829: I tensorflow/core/platform/cpu_feature_guard.cc:142] This TensorFlow binary is optimized with oneAPI Deep Neural Network Library (oneDNN)to use the following CPU instructions in performance-critical operations:  AVX2 FMA\n",
            "To enable them in other operations, rebuild TensorFlow with the appropriate compiler flags.\n",
            "2022-11-09 15:42:14.614915: I tensorflow/core/platform/profile_utils/cpu_utils.cc:104] CPU Frequency: 2596985000 Hz\n",
            "2022-11-09 15:42:14.615742: I tensorflow/compiler/xla/service/service.cc:168] XLA service 0x55e7594a5110 initialized for platform Host (this does not guarantee that XLA will be used). Devices:\n",
            "2022-11-09 15:42:14.615759: I tensorflow/compiler/xla/service/service.cc:176]   StreamExecutor device (0): Host, Default Version\n",
            "2022-11-09 15:42:14.617001: I tensorflow/core/common_runtime/gpu/gpu_device.cc:1257] Device interconnect StreamExecutor with strength 1 edge matrix:\n",
            "2022-11-09 15:42:14.617016: I tensorflow/core/common_runtime/gpu/gpu_device.cc:1263]      \n"
          ]
        }
      ],
      "source": [
        "model=Sequential()\n",
        "model.add(Embedding(voc_size,dim,input_length=sent_length))\n",
        "model.compile('adam','mse')"
      ]
    },
    {
      "cell_type": "code",
      "execution_count": 27,
      "id": "11881f86",
      "metadata": {
        "gather": {
          "logged": 1668008538390
        }
      },
      "outputs": [
        {
          "name": "stdout",
          "output_type": "stream",
          "text": [
            "Model: \"sequential\"\n",
            "_________________________________________________________________\n",
            "Layer (type)                 Output Shape              Param #   \n",
            "=================================================================\n",
            "embedding (Embedding)        (None, 1000, 10)          64170     \n",
            "=================================================================\n",
            "Total params: 64,170\n",
            "Trainable params: 64,170\n",
            "Non-trainable params: 0\n",
            "_________________________________________________________________\n"
          ]
        }
      ],
      "source": [
        "model.summary()"
      ]
    },
    {
      "cell_type": "code",
      "execution_count": 28,
      "id": "0a24bfd7",
      "metadata": {
        "gather": {
          "logged": 1668008538885
        }
      },
      "outputs": [],
      "source": [
        "  \n",
        "# import tensorflow as tf\n",
        "\n",
        "# tensor_1 = [.34, .45, .67, .65] \n",
        "# tensor_list = [[.34, .45, .67, .65], [.14, .35, .67, .65],\n",
        "#             [.54, .95, .07, .5], [.64, .75, .81, .05], [.34, .45, .67, .65]]\n",
        "\n",
        "# cosine_sim_values = tf.keras.losses.cosine_similarity(\n",
        "#     tensor_1,\n",
        "#     tensor_list,\n",
        "#     axis=-1)\n",
        "\n",
        "# print(cosine_sim_values.numpy())"
      ]
    },
    {
      "cell_type": "code",
      "execution_count": 29,
      "id": "c846cb36",
      "metadata": {
        "gather": {
          "logged": 1668008539336
        }
      },
      "outputs": [
        {
          "name": "stdout",
          "output_type": "stream",
          "text": [
            "[[[-0.03739196 -0.01235484  0.0047575  ...  0.02520372 -0.00731073\n",
            "   -0.01247605]\n",
            "  [-0.03739196 -0.01235484  0.0047575  ...  0.02520372 -0.00731073\n",
            "   -0.01247605]\n",
            "  [-0.03739196 -0.01235484  0.0047575  ...  0.02520372 -0.00731073\n",
            "   -0.01247605]\n",
            "  ...\n",
            "  [ 0.04183011  0.04530183  0.01607687 ...  0.02762076  0.02708218\n",
            "   -0.00882758]\n",
            "  [-0.0100712  -0.00176556  0.04868232 ...  0.02831152  0.02256439\n",
            "   -0.04063465]\n",
            "  [ 0.00821109  0.04372077  0.01673939 ...  0.04253025  0.01707036\n",
            "    0.03332274]]\n",
            "\n",
            " [[-0.03739196 -0.01235484  0.0047575  ...  0.02520372 -0.00731073\n",
            "   -0.01247605]\n",
            "  [-0.03739196 -0.01235484  0.0047575  ...  0.02520372 -0.00731073\n",
            "   -0.01247605]\n",
            "  [-0.03739196 -0.01235484  0.0047575  ...  0.02520372 -0.00731073\n",
            "   -0.01247605]\n",
            "  ...\n",
            "  [ 0.00661128 -0.00858301 -0.02029402 ...  0.01092354  0.04922071\n",
            "    0.0241743 ]\n",
            "  [-0.02691476  0.01143125 -0.00120429 ... -0.00801113 -0.04966495\n",
            "    0.01459629]\n",
            "  [ 0.01023021  0.03093855  0.04373151 ...  0.00459214 -0.0096889\n",
            "    0.04725606]]\n",
            "\n",
            " [[-0.03739196 -0.01235484  0.0047575  ...  0.02520372 -0.00731073\n",
            "   -0.01247605]\n",
            "  [-0.03739196 -0.01235484  0.0047575  ...  0.02520372 -0.00731073\n",
            "   -0.01247605]\n",
            "  [-0.03739196 -0.01235484  0.0047575  ...  0.02520372 -0.00731073\n",
            "   -0.01247605]\n",
            "  ...\n",
            "  [ 0.0290016  -0.03914161  0.02465403 ... -0.02048668 -0.04285424\n",
            "    0.03048765]\n",
            "  [-0.02711423  0.00953109  0.0025934  ... -0.01130503  0.04713701\n",
            "   -0.03962006]\n",
            "  [ 0.00821109  0.04372077  0.01673939 ...  0.04253025  0.01707036\n",
            "    0.03332274]]\n",
            "\n",
            " ...\n",
            "\n",
            " [[-0.03739196 -0.01235484  0.0047575  ...  0.02520372 -0.00731073\n",
            "   -0.01247605]\n",
            "  [-0.03739196 -0.01235484  0.0047575  ...  0.02520372 -0.00731073\n",
            "   -0.01247605]\n",
            "  [-0.03739196 -0.01235484  0.0047575  ...  0.02520372 -0.00731073\n",
            "   -0.01247605]\n",
            "  ...\n",
            "  [ 0.04866323 -0.03565619 -0.0422178  ... -0.03597023  0.03547554\n",
            "   -0.01673181]\n",
            "  [-0.03821168  0.04015936  0.02910003 ...  0.03396881 -0.0033583\n",
            "   -0.00389316]\n",
            "  [-0.03207797 -0.00678845 -0.0459617  ...  0.02730191  0.03522824\n",
            "   -0.02759026]]\n",
            "\n",
            " [[-0.03739196 -0.01235484  0.0047575  ...  0.02520372 -0.00731073\n",
            "   -0.01247605]\n",
            "  [-0.03739196 -0.01235484  0.0047575  ...  0.02520372 -0.00731073\n",
            "   -0.01247605]\n",
            "  [-0.03739196 -0.01235484  0.0047575  ...  0.02520372 -0.00731073\n",
            "   -0.01247605]\n",
            "  ...\n",
            "  [-0.03292216 -0.04539542 -0.00792573 ... -0.02562354  0.00171651\n",
            "   -0.0426893 ]\n",
            "  [ 0.03853652  0.03156518 -0.00986874 ... -0.00584848 -0.00839185\n",
            "    0.03699196]\n",
            "  [ 0.00812408  0.02155086 -0.04427643 ...  0.04977918 -0.00490693\n",
            "   -0.01601363]]\n",
            "\n",
            " [[-0.03739196 -0.01235484  0.0047575  ...  0.02520372 -0.00731073\n",
            "   -0.01247605]\n",
            "  [-0.03739196 -0.01235484  0.0047575  ...  0.02520372 -0.00731073\n",
            "   -0.01247605]\n",
            "  [-0.03739196 -0.01235484  0.0047575  ...  0.02520372 -0.00731073\n",
            "   -0.01247605]\n",
            "  ...\n",
            "  [-0.03810702  0.04189045 -0.01311688 ... -0.02396662 -0.01364757\n",
            "   -0.01862295]\n",
            "  [ 0.00502976  0.03779229  0.00158031 ... -0.00472449  0.01602527\n",
            "    0.04172182]\n",
            "  [-0.01994631  0.01309487 -0.01233022 ... -0.02541333  0.01690761\n",
            "   -0.03664572]]]\n"
          ]
        }
      ],
      "source": [
        "print(model.predict(embedded_docs))"
      ]
    },
    {
      "cell_type": "code",
      "execution_count": 30,
      "id": "3aded4c0",
      "metadata": {
        "gather": {
          "logged": 1668008540007
        }
      },
      "outputs": [],
      "source": [
        "X_mother=model.predict(embedded_docs)"
      ]
    },
    {
      "cell_type": "code",
      "execution_count": 31,
      "id": "17da4aa9",
      "metadata": {
        "gather": {
          "logged": 1668008540485
        }
      },
      "outputs": [
        {
          "data": {
            "text/plain": [
              "numpy.ndarray"
            ]
          },
          "execution_count": 31,
          "metadata": {},
          "output_type": "execute_result"
        }
      ],
      "source": [
        "type(X_mother)"
      ]
    },
    {
      "cell_type": "code",
      "execution_count": 32,
      "id": "6b220e15",
      "metadata": {
        "gather": {
          "logged": 1668008541106
        }
      },
      "outputs": [
        {
          "data": {
            "text/plain": [
              "155951"
            ]
          },
          "execution_count": 32,
          "metadata": {},
          "output_type": "execute_result"
        }
      ],
      "source": [
        "len(X.index)"
      ]
    },
    {
      "cell_type": "code",
      "execution_count": 33,
      "id": "84299497",
      "metadata": {
        "gather": {
          "logged": 1668008553928
        }
      },
      "outputs": [],
      "source": [
        "X_new=[]\n",
        "for row in range(len(X.index)):\n",
        "    value1 = X.iat[row, 1]\n",
        "    value2 = X.iat[row, 0]\n",
        "    line1 = X_mother[value1-1]\n",
        "    line2 = X_mother[value2-1]\n",
        "    final_line=np.concatenate((line1,line2),axis=0)\n",
        "    X_new.append(final_line)\n"
      ]
    },
    {
      "cell_type": "code",
      "execution_count": 34,
      "id": "e9b797b0-d4e9-47f5-9cae-e729619901e1",
      "metadata": {
        "gather": {
          "logged": 1668008558685
        },
        "jupyter": {
          "outputs_hidden": false,
          "source_hidden": false
        },
        "nteract": {
          "transient": {
            "deleting": false
          }
        }
      },
      "outputs": [
        {
          "data": {
            "text/plain": [
              "(155951, 2000, 10)"
            ]
          },
          "execution_count": 34,
          "metadata": {},
          "output_type": "execute_result"
        }
      ],
      "source": [
        "X_arr=np.asarray(X_new)\n",
        "X_arr.shape"
      ]
    },
    {
      "cell_type": "code",
      "execution_count": 36,
      "id": "227a8d1f-314e-44ac-83c8-270f18aea3d3",
      "metadata": {
        "gather": {
          "logged": 1668008559568
        },
        "jupyter": {
          "outputs_hidden": false,
          "source_hidden": false
        },
        "nteract": {
          "transient": {
            "deleting": false
          }
        }
      },
      "outputs": [],
      "source": [
        "# !pip install sklearn.cross_validation\n",
        "from sklearn.model_selection import train_test_split"
      ]
    },
    {
      "cell_type": "code",
      "execution_count": 37,
      "id": "b512563c-1570-4e13-9076-5b8bca972255",
      "metadata": {
        "gather": {
          "logged": 1668008563478
        },
        "jupyter": {
          "outputs_hidden": false,
          "source_hidden": false
        },
        "nteract": {
          "transient": {
            "deleting": false
          }
        }
      },
      "outputs": [],
      "source": [
        "X_train_mega, X_test, y_train_mega, y_test = train_test_split(\n",
        "X_arr,y , random_state=104,test_size=0.2, shuffle=True)"
      ]
    },
    {
      "cell_type": "code",
      "execution_count": 38,
      "id": "c19def28-4154-4344-8405-d8addf3e437c",
      "metadata": {
        "gather": {
          "logged": 1668008567169
        },
        "jupyter": {
          "outputs_hidden": false,
          "source_hidden": false
        },
        "nteract": {
          "transient": {
            "deleting": false
          }
        }
      },
      "outputs": [],
      "source": [
        "X_train, X_val, y_train, y_val = train_test_split(\n",
        "X_train_mega,y_train_mega , random_state=104,test_size=0.25, shuffle=True)"
      ]
    },
    {
      "cell_type": "code",
      "execution_count": 39,
      "id": "5c96ea01-4a2e-40bd-a53d-133e188c7338",
      "metadata": {
        "gather": {
          "logged": 1668008567651
        },
        "jupyter": {
          "outputs_hidden": false,
          "source_hidden": false
        },
        "nteract": {
          "transient": {
            "deleting": false
          }
        }
      },
      "outputs": [],
      "source": [
        "from keras.layers import Activation, Dense"
      ]
    },
    {
      "cell_type": "code",
      "execution_count": 40,
      "id": "04eba070-6725-4ffb-af2b-072512060e20",
      "metadata": {
        "gather": {
          "logged": 1668008568166
        },
        "jupyter": {
          "outputs_hidden": false,
          "source_hidden": false
        },
        "nteract": {
          "transient": {
            "deleting": false
          }
        }
      },
      "outputs": [],
      "source": [
        "from keras.models import Sequential"
      ]
    },
    {
      "cell_type": "code",
      "execution_count": 41,
      "id": "78bfe03c-2d0b-4f42-b550-3033d8b76102",
      "metadata": {
        "gather": {
          "logged": 1668008568616
        },
        "jupyter": {
          "outputs_hidden": false,
          "source_hidden": false
        },
        "nteract": {
          "transient": {
            "deleting": false
          }
        }
      },
      "outputs": [],
      "source": [
        "from keras import Model\n",
        "from keras.layers import Input, Dense, Bidirectional\n",
        "from keras.layers.recurrent import LSTM\n",
        "\n",
        "\n"
      ]
    },
    {
      "cell_type": "code",
      "execution_count": 42,
      "id": "1df1ec32-e98f-43b6-a5e6-4e1d8f9cd45a",
      "metadata": {
        "gather": {
          "logged": 1668008569090
        },
        "jupyter": {
          "outputs_hidden": false,
          "source_hidden": false
        },
        "nteract": {
          "transient": {
            "deleting": false
          }
        }
      },
      "outputs": [],
      "source": [
        "from keras.layers import SimpleRNN"
      ]
    },
    {
      "cell_type": "code",
      "execution_count": 61,
      "id": "c65cb90e-084c-4a5a-851a-89d5b249f0c9",
      "metadata": {
        "gather": {
          "logged": 1668009337065
        },
        "jupyter": {
          "outputs_hidden": false,
          "source_hidden": false
        },
        "nteract": {
          "transient": {
            "deleting": false
          }
        }
      },
      "outputs": [
        {
          "name": "stdout",
          "output_type": "stream",
          "text": [
            "Model: \"sequential_7\"\n",
            "_________________________________________________________________\n",
            "Layer (type)                 Output Shape              Param #   \n",
            "=================================================================\n",
            "bidirectional (Bidirectional (None, 2000, 128)         38400     \n",
            "_________________________________________________________________\n",
            "bidirectional_1 (Bidirection (None, 64)                41216     \n",
            "_________________________________________________________________\n",
            "dense_3 (Dense)              (None, 64)                4160      \n",
            "_________________________________________________________________\n",
            "dense_4 (Dense)              (None, 1)                 65        \n",
            "=================================================================\n",
            "Total params: 83,841\n",
            "Trainable params: 83,841\n",
            "Non-trainable params: 0\n",
            "_________________________________________________________________\n"
          ]
        }
      ],
      "source": [
        "model = keras.Sequential()\n",
        "\n",
        "model.add(\n",
        "    keras.layers.Bidirectional(keras.layers.LSTM(64, return_sequences=True), input_shape=(2000,10))\n",
        ")\n",
        "model.add(keras.layers.Bidirectional(keras.layers.LSTM(32)))\n",
        "model.add(keras.layers.Dense(64, activation='relu'))\n",
        "model.add(keras.layers.Dense(1, activation='sigmoid'))\n",
        "\n",
        "model.summary()"
      ]
    },
    {
      "cell_type": "code",
      "execution_count": 63,
      "id": "f962e153-a534-4679-ae7f-fd455fb5ada4",
      "metadata": {
        "gather": {
          "logged": 1668009345814
        },
        "jupyter": {
          "outputs_hidden": false,
          "source_hidden": false
        },
        "nteract": {
          "transient": {
            "deleting": false
          }
        }
      },
      "outputs": [],
      "source": [
        "model.compile(optimizer='adam',\n",
        "              loss='binary_crossentropy',\n",
        "              metrics=['accuracy'])"
      ]
    },
    {
      "cell_type": "code",
      "execution_count": 64,
      "id": "2da4f96b-273c-4359-82b6-72f460be6657",
      "metadata": {
        "gather": {
          "logged": 1668008862683
        },
        "jupyter": {
          "outputs_hidden": false,
          "source_hidden": false
        },
        "nteract": {
          "transient": {
            "deleting": false
          }
        }
      },
      "outputs": [
        {
          "name": "stderr",
          "output_type": "stream",
          "text": [
            "2022-11-09 15:55:46.719643: W tensorflow/core/framework/cpu_allocator_impl.cc:81] Allocation of 7485600000 exceeds 10% of free system memory.\n"
          ]
        },
        {
          "name": "stdout",
          "output_type": "stream",
          "text": [
            "Epoch 1/5\n",
            "2925/2925 [==============================] - 4742s 2s/step - loss: 0.6922 - accuracy: 0.5166 - val_loss: 0.6930 - val_accuracy: 0.5156\b\b\b\b\b\b\b\b\b\b\b\b\b\b\b\b\b\b\b\b\b\b\b\b\b\b\b\b\b\b\b\b\b\b\b\b\b\b\b\b\b\b\b\b\b\b\b\b\n",
            "Epoch 2/5\n",
            " 510/2925 [====>.........................] - ETA: 1:00:01 - loss: 0.6930 - accuracy: 0.5139\b\b\b\b\b\b\b\b\b\b\b\b\b\b\b\b\b\b\b\b\b\b\b\b\b\b\b\b\b\b\b\b\b\b\b\b\b\b\b\b\b\b\b\b\b\b\b\b\b\b\b\b\b\b\b\b\b\b\b\b\b\b\b\b\b\b\b\b\b\b\b\b\b\b\b\b\b\b\b\b\b\b\b\b\b\b\b\b\b\b\b\r 511/2925 [====>.........................] - ETA: 59:59 - loss: 0.6929 - accuracy: 0.5141  \b\b\b\b\b\b\b\b\b\b\b\b\b\b\b\b\b\b\b\b\b\b\b\b\b\b\b\b\b\b\b\b\b\b\b\b\b\b\b\b\b\b\b\b\b\b\b\b\b\b\b\b\b\b\b\b\b\b\b\b\b\b\b\b\b\b\b\b\b\b\b\b\b\b\b\b\b\b\b\b\b\b\b\b\b\b\b\b\b\r2522/2925 [========================>.....] - ETA: 10:00 - loss: 0.6928 - accuracy: 0.5150\b\b\b\b\b\b\b\b\b\b\b\b\b\b\b\b\b\b\b\b\b\b\b\b\b\b\b\b\b\b\b\b\b\b\b\b\b\b\b\b\b\b\b\b\b\b\b\b\b\b\b\b\b\b\b\b\b\b\b\b\b\b\b\b\b\b\b\b\b\b\b\b\b\b\b\b\b\b\b\b\b\b\b\b\b\b\b\b\b\r2523/2925 [========================>.....] - ETA: 9:59 - loss: 0.6928 - accuracy: 0.5149 \b\b\b\b\b\b\b\b\b\b\b\b\b\b\b\b\b\b\b\b\b\b\b\b\b\b\b\b\b\b\b\b\b\b\b\b\b\b\b\b\b\b\b\b\b\b\b\b\b\b\b\b\b\b\b\b\b\b\b\b\b\b\b\b\b\b\b\b\b\b\b\b\b\b\b\b\b\b\b\b\b\b\b\b\b\b\b\b\r2884/2925 [============================>.] - ETA: 1:01 - loss: 0.6928 - accuracy: 0.5152\b\b\b\b\b\b\b\b\b\b\b\b\b\b\b\b\b\b\b\b\b\b\b\b\b\b\b\b\b\b\b\b\b\b\b\b\b\b\b\b\b\b\b\b\b\b\b\b\b\b\b\b\b\b\b\b\b\b\b\b\b\b\b\b\b\b\b\b\b\b\b\b\b\b\b\b\b\b\b\b\b\b\b\b\b\b\b\b\r2885/2925 [============================>.] - ETA: 59s - loss: 0.6928 - accuracy: 0.5152 \b\b\b\b\b\b\b\b\b\b\b\b\b\b\b\b\b\b\b\b\b\b\b\b\b\b\b\b\b\b\b\b\b\b\b\b\b\b\b\b\b\b\b\b\b\b\b\b\b\b\b\b\b\b\b\b\b\b\b\b\b\b\b\b\b\b\b\b\b\b\b\b\b\b\b\b\b\b\b\b\b\b\b\b\b\b\b\r2918/2925 [============================>.] - ETA: 10s - loss: 0.6927 - accuracy: 0.5155\b\b\b\b\b\b\b\b\b\b\b\b\b\b\b\b\b\b\b\b\b\b\b\b\b\b\b\b\b\b\b\b\b\b\b\b\b\b\b\b\b\b\b\b\b\b\b\b\b\b\b\b\b\b\b\b\b\b\b\b\b\b\b\b\b\b\b\b\b\b\b\b\b\b\b\b\b\b\b\b\b\b\b\b\b\b\b\r2919/2925 [============================>.] - ETA: 8s - loss: 0.6927 - accuracy: 0.5156 \b\b\b\b\b\b\b\b\b\b\b\b\b\b\b\b\b\b\b\b\b\b\b\b\b\b\b\b\b\b\b\b\b\b\b\b\b\b\b\b\b\b\b\b\b\b\b\b\b\b\b\b\b\b\b\b\b\b\b\b\b\b\b\b\b\b\b\b\b\b\b\b\b\b\b\b\b\b\b\b\b\b\b\b\b\b\r2924/2925 [============================>.] - ETA: 1s - loss: 0.6927 - accuracy: 0.5157\b\b\b\b\b\b\b\b\b\b\b\b\b\b\b\b\b\b\b\b\b\b\b\b\b\b\b\b\b\b\b\b\b\b\b\b\b\b\b\b\b\b\b\b\b\b\b\b\b\b\b\b\b\b\b\b\b\b\b\b\b\b\b\b\b\b\b\b\b\b\b\b\b\b\b\b\b\b\b\b\b\b\b\b\b\b\r2925/2925 [==============================] - ETA: 0s - loss: 0.6927 - accuracy: 0.5157"
          ]
        }
      ],
      "source": [
        "hist = model.fit(X_train, y_train,\n",
        "          batch_size=32, epochs=5,\n",
        "          validation_data=(X_val, y_val))"
      ]
    },
    {
      "cell_type": "code",
      "execution_count": null,
      "id": "e4d093dc-0b2d-44d5-a134-6b5d484b6dcc",
      "metadata": {
        "gather": {
          "logged": 1668008570635
        },
        "jupyter": {
          "outputs_hidden": false,
          "source_hidden": false
        },
        "nteract": {
          "transient": {
            "deleting": false
          }
        }
      },
      "outputs": [],
      "source": [
        "model.evaluate(X_test, y_test)#[1]"
      ]
    }
  ],
  "metadata": {
    "kernel_info": {
      "name": "python3"
    },
    "kernelspec": {
      "display_name": "Python 3 (ipykernel)",
      "language": "python",
      "name": "python3"
    },
    "language_info": {
      "codemirror_mode": {
        "name": "ipython",
        "version": 3
      },
      "file_extension": ".py",
      "mimetype": "text/x-python",
      "name": "python",
      "nbconvert_exporter": "python",
      "pygments_lexer": "ipython3",
      "version": "3.8.5"
    },
    "microsoft": {
      "host": {
        "AzureML": {
          "notebookHasBeenCompleted": true
        }
      }
    },
    "nteract": {
      "version": "nteract-front-end@1.0.0"
    }
  },
  "nbformat": 4,
  "nbformat_minor": 5
}
